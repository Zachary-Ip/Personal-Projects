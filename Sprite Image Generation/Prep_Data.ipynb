{
 "cells": [
  {
   "cell_type": "code",
   "execution_count": 3,
   "id": "194a76cf",
   "metadata": {},
   "outputs": [],
   "source": [
    "import os\n",
    "import glob\n",
    "import imageio\n",
    "import random, shutil\n",
    "import torch\n",
    "import torch.nn as nn\n",
    "from tqdm.notebook import tqdm\n",
    "import torch.nn.functional as F\n",
    "import torchvision.datasets as datasets\n",
    "import torchvision.transforms as transforms\n",
    "import torchaudio\n",
    "import numpy as np\n",
    "import matplotlib.pyplot as plt\n",
    "import IPython.display as display\n",
    "import librosa\n",
    "import librosa.display\n",
    "import pandas as pd\n",
    "import seaborn as sns\n",
    "import requests\n",
    "import imageio\n",
    "from zipfile import ZipFile\n",
    "from PIL import Image, ImageOps, ImageShow\n",
    "from torchvision.utils import save_image "
   ]
  },
  {
   "cell_type": "markdown",
   "id": "ffca4afd",
   "metadata": {},
   "source": [
    "Pokemone sprites sourced from: https://pkmn.net/?action=content&page=viewpage&id=8644&parentsection=87\n",
    "Includes sprites from BW, DPPt, FRLG, GSC, HGSS, Pinnball, RBYG, RSE. \n",
    "\n",
    "Utilizing AEGAN architechture from https://arxiv.org/abs/2004.05472,\n",
    "code at: https://github.com/ConorLazarou/PokeGAN/blob/master/main.py\n",
    "\n",
    "Note: Things changed:\n",
    "- removed transparency from .png files, "
   ]
  },
  {
   "cell_type": "code",
   "execution_count": 1,
   "id": "824e27a1",
   "metadata": {},
   "outputs": [],
   "source": [
    "# Utils\n",
    "def set_device():\n",
    "    device = \"cuda\" if torch.cuda.is_available() else \"cpu\"\n",
    "    if device != \"cuda\":\n",
    "        print(\"WARNING: For this notebook to perform best, \"\n",
    "          \"if possible, in the menu under `Runtime` -> \"\n",
    "          \"`Change runtime type.`  select `GPU` \")\n",
    "    else:\n",
    "        print(\"GPU is enabled in this notebook.\")\n",
    "\n",
    "    return device\n",
    "\n",
    "def padding(img, expected_size):\n",
    "    desired_size = expected_size\n",
    "    delta_width = desired_size - img.size[0]\n",
    "    delta_height = desired_size - img.size[1]\n",
    "    pad_width = delta_width // 2\n",
    "    pad_height = delta_height // 2\n",
    "    \n",
    "    new_img = Image.new(img.mode, (expected_size,expected_size), (255,255,255))\n",
    "    new_img.paste(img, (pad_width, pad_height))\n",
    "    #padding = (pad_width, pad_height, delta_width - pad_width, delta_height - pad_height)\n",
    "    return new_img #ImageOps.expand(img, padding, fill = (255,255,255))\n",
    "\n",
    "\n",
    "def resize_with_padding(img, expected_size):\n",
    "    img.thumbnail((expected_size[0], expected_size[1]))\n",
    "    delta_width = expected_size[0] - img.size[0]\n",
    "    delta_height = expected_size[1] - img.size[1]\n",
    "    pad_width = delta_width // 2\n",
    "    pad_height = delta_height // 2\n",
    "    padding = (pad_width, pad_height, delta_width - pad_width, delta_height - pad_height)\n",
    "    return ImageOps.expand(img, padding)#,fill = 255)\n",
    "\n",
    "def remove_transparency(im, bg_colour=(255, 255, 255)):\n",
    "\n",
    "    # Only process if image has transparency (http://stackoverflow.com/a/1963146)\n",
    "    if im.mode in ('RGBA', 'LA') or (im.mode == 'P' and 'transparency' in im.info):\n",
    "\n",
    "        # Need to convert to RGBA if LA format due to a bug in PIL (http://stackoverflow.com/a/1963146)\n",
    "        alpha = im.convert('RGBA').split()[-1]\n",
    "\n",
    "        # Create a new background image of our matt color.\n",
    "        # Must be RGBA because paste requires both images have the same format\n",
    "        # (http://stackoverflow.com/a/8720632  and  http://stackoverflow.com/a/9459208)\n",
    "        bg = Image.new(\"RGBA\", im.size, bg_colour + (255,))\n",
    "        bg.paste(im, mask=alpha)\n",
    "        return bg\n",
    "\n",
    "    else:\n",
    "        return im\n",
    "\n",
    "#def iter_frames(im):\n",
    "#    try:\n",
    "#        i= 0\n",
    "#        while 1:\n",
    "#            im.seek(i)\n",
    "#            imframe = im.copy()\n",
    "#            if i == 0: \n",
    "#                palette = imframe.getpalette()\n",
    "#            else:\n",
    "#                imframe.putpalette(palette)\n",
    "#            yield imframe\n",
    "#            i += 1\n",
    "#    except EOFError:\n",
    "#        pass\n",
    "#\n",
    "#    for i, frame in enumerate(iter_frames(im)):\n",
    "#        frame.save('test%d.png' % i,**frame.info)   "
   ]
  },
  {
   "cell_type": "code",
   "execution_count": 7,
   "id": "c3142c3e",
   "metadata": {
    "scrolled": true
   },
   "outputs": [],
   "source": [
    "src_path = \"C:\\\\Users\\\\ipzac\\\\Documents\\\\Project Data\\\\Pokemon Sprites\\\\Original Pokémon\\\\\"\n",
    "save_path = \"C:\\\\Users\\\\ipzac\\\\Documents\\\\Project Data\\\\Pokemon Sprites\\\\Clean Sprites\\\\\"\n",
    "os.chdir(src_path)\n",
    "template = np.zeros((96,96))\n",
    "src_files = []\n",
    "unique_ID = 0\n",
    "\n",
    "for root,d, files in os.walk(src_path):\n",
    "    for f in files:\n",
    "        im = Image.open(root + '\\\\' + f)\n",
    "        im = remove_transparency(im)\n",
    "        #bw_im = ImageOps.grayscale(im)\n",
    "        pad_im = padding(im, 96)\n",
    "        pad_im.save(save_path + str(unique_ID) + \".png\")\n",
    "        #tensor_im = transforms.ToTensor()(pad_im).squeeze()\n",
    "        #torch.save(tensor_im, save_path + str(unique_ID) + \".pt\")\n",
    "        unique_ID += 1\n",
    "        #ImageShow.show(pad_im)"
   ]
  },
  {
   "cell_type": "code",
   "execution_count": 4,
   "id": "9ef38fae",
   "metadata": {},
   "outputs": [
    {
     "name": "stdout",
     "output_type": "stream",
     "text": [
      "GPU is enabled in this notebook.\n"
     ]
    },
    {
     "data": {
      "text/plain": [
       "'cuda'"
      ]
     },
     "execution_count": 4,
     "metadata": {},
     "output_type": "execute_result"
    }
   ],
   "source": [
    "set_device()"
   ]
  },
  {
   "cell_type": "code",
   "execution_count": null,
   "id": "fa53efd4",
   "metadata": {},
   "outputs": [
    {
     "name": "stdout",
     "output_type": "stream",
     "text": [
      "Epoch 1; Elapsed time = 00:00:00s\n",
      "101/286: G=5.572, E=0.577, Dx=0.027, Dz=0.730  Rx=0.687  Rz=0.630\n",
      "Epoch 2; Elapsed time = 00:01:12s\n",
      "101/286: G=8.281, E=0.645, Dx=0.106, Dz=0.715  Rx=0.224  Rz=0.247\n",
      "Epoch 3; Elapsed time = 00:02:22s\n",
      "63/286: G=7.315, E=0.673, Dx=0.006, Dz=0.712  Rx=0.177  Rz=0.155\r"
     ]
    }
   ],
   "source": [
    "file_path = \"C:\\\\Users\\\\ipzac\\\\Documents\\\\Personal-Projects\\\\Sprite Image Generation\\\\\"\n",
    "os.chdir(file_path)\n",
    "\n",
    "%run main.py"
   ]
  },
  {
   "cell_type": "code",
   "execution_count": null,
   "id": "778a4f0b",
   "metadata": {},
   "outputs": [],
   "source": []
  }
 ],
 "metadata": {
  "kernelspec": {
   "display_name": "Python 3",
   "language": "python",
   "name": "python3"
  },
  "language_info": {
   "codemirror_mode": {
    "name": "ipython",
    "version": 3
   },
   "file_extension": ".py",
   "mimetype": "text/x-python",
   "name": "python",
   "nbconvert_exporter": "python",
   "pygments_lexer": "ipython3",
   "version": "3.8.8"
  }
 },
 "nbformat": 4,
 "nbformat_minor": 5
}
