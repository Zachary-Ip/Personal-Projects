{
  "nbformat": 4,
  "nbformat_minor": 0,
  "metadata": {
    "colab": {
      "name": "210816_ZI__music_classify_",
      "provenance": []
    },
    "kernelspec": {
      "name": "python3",
      "display_name": "Python 3"
    },
    "language_info": {
      "name": "python"
    },
    "widgets": {
      "application/vnd.jupyter.widget-state+json": {
        "2f5a538b5bad4070a29f49079ea60615": {
          "model_module": "@jupyter-widgets/controls",
          "model_name": "HBoxModel",
          "model_module_version": "1.5.0",
          "state": {
            "_view_name": "HBoxView",
            "_dom_classes": [],
            "_model_name": "HBoxModel",
            "_view_module": "@jupyter-widgets/controls",
            "_model_module_version": "1.5.0",
            "_view_count": null,
            "_view_module_version": "1.5.0",
            "box_style": "",
            "layout": "IPY_MODEL_eeb5b2ca066b4a198ebf3e9a7da59cf4",
            "_model_module": "@jupyter-widgets/controls",
            "children": [
              "IPY_MODEL_75120dc7a96a4420bd1d4f81cafbb677",
              "IPY_MODEL_44c07e071e5a4e41a2364597439b00cb"
            ]
          }
        },
        "eeb5b2ca066b4a198ebf3e9a7da59cf4": {
          "model_module": "@jupyter-widgets/base",
          "model_name": "LayoutModel",
          "model_module_version": "1.2.0",
          "state": {
            "_view_name": "LayoutView",
            "grid_template_rows": null,
            "right": null,
            "justify_content": null,
            "_view_module": "@jupyter-widgets/base",
            "overflow": null,
            "_model_module_version": "1.2.0",
            "_view_count": null,
            "flex_flow": null,
            "width": null,
            "min_width": null,
            "border": null,
            "align_items": null,
            "bottom": null,
            "_model_module": "@jupyter-widgets/base",
            "top": null,
            "grid_column": null,
            "overflow_y": null,
            "overflow_x": null,
            "grid_auto_flow": null,
            "grid_area": null,
            "grid_template_columns": null,
            "flex": null,
            "_model_name": "LayoutModel",
            "justify_items": null,
            "grid_row": null,
            "max_height": null,
            "align_content": null,
            "visibility": null,
            "align_self": null,
            "height": null,
            "min_height": null,
            "padding": null,
            "grid_auto_rows": null,
            "grid_gap": null,
            "max_width": null,
            "order": null,
            "_view_module_version": "1.2.0",
            "grid_template_areas": null,
            "object_position": null,
            "object_fit": null,
            "grid_auto_columns": null,
            "margin": null,
            "display": null,
            "left": null
          }
        },
        "75120dc7a96a4420bd1d4f81cafbb677": {
          "model_module": "@jupyter-widgets/controls",
          "model_name": "FloatProgressModel",
          "model_module_version": "1.5.0",
          "state": {
            "_view_name": "ProgressView",
            "style": "IPY_MODEL_424b11fd66e74ec584db03c70fe15a7b",
            "_dom_classes": [],
            "description": "Training: 100%",
            "_model_name": "FloatProgressModel",
            "bar_style": "success",
            "max": 50,
            "_view_module": "@jupyter-widgets/controls",
            "_model_module_version": "1.5.0",
            "value": 50,
            "_view_count": null,
            "_view_module_version": "1.5.0",
            "orientation": "horizontal",
            "min": 0,
            "description_tooltip": null,
            "_model_module": "@jupyter-widgets/controls",
            "layout": "IPY_MODEL_7857881ed4784d86ab5447e4d123cc33"
          }
        },
        "44c07e071e5a4e41a2364597439b00cb": {
          "model_module": "@jupyter-widgets/controls",
          "model_name": "HTMLModel",
          "model_module_version": "1.5.0",
          "state": {
            "_view_name": "HTMLView",
            "style": "IPY_MODEL_b83c8f4d01a4419d8e27e5a308b39d1b",
            "_dom_classes": [],
            "description": "",
            "_model_name": "HTMLModel",
            "placeholder": "​",
            "_view_module": "@jupyter-widgets/controls",
            "_model_module_version": "1.5.0",
            "value": " 50/50 [24:42&lt;00:00, 29.65s/epoch, loss=1.74]",
            "_view_count": null,
            "_view_module_version": "1.5.0",
            "description_tooltip": null,
            "_model_module": "@jupyter-widgets/controls",
            "layout": "IPY_MODEL_932c752fd5fb42f4a714f8fc372d08cb"
          }
        },
        "424b11fd66e74ec584db03c70fe15a7b": {
          "model_module": "@jupyter-widgets/controls",
          "model_name": "ProgressStyleModel",
          "model_module_version": "1.5.0",
          "state": {
            "_view_name": "StyleView",
            "_model_name": "ProgressStyleModel",
            "description_width": "initial",
            "_view_module": "@jupyter-widgets/base",
            "_model_module_version": "1.5.0",
            "_view_count": null,
            "_view_module_version": "1.2.0",
            "bar_color": null,
            "_model_module": "@jupyter-widgets/controls"
          }
        },
        "7857881ed4784d86ab5447e4d123cc33": {
          "model_module": "@jupyter-widgets/base",
          "model_name": "LayoutModel",
          "model_module_version": "1.2.0",
          "state": {
            "_view_name": "LayoutView",
            "grid_template_rows": null,
            "right": null,
            "justify_content": null,
            "_view_module": "@jupyter-widgets/base",
            "overflow": null,
            "_model_module_version": "1.2.0",
            "_view_count": null,
            "flex_flow": null,
            "width": null,
            "min_width": null,
            "border": null,
            "align_items": null,
            "bottom": null,
            "_model_module": "@jupyter-widgets/base",
            "top": null,
            "grid_column": null,
            "overflow_y": null,
            "overflow_x": null,
            "grid_auto_flow": null,
            "grid_area": null,
            "grid_template_columns": null,
            "flex": null,
            "_model_name": "LayoutModel",
            "justify_items": null,
            "grid_row": null,
            "max_height": null,
            "align_content": null,
            "visibility": null,
            "align_self": null,
            "height": null,
            "min_height": null,
            "padding": null,
            "grid_auto_rows": null,
            "grid_gap": null,
            "max_width": null,
            "order": null,
            "_view_module_version": "1.2.0",
            "grid_template_areas": null,
            "object_position": null,
            "object_fit": null,
            "grid_auto_columns": null,
            "margin": null,
            "display": null,
            "left": null
          }
        },
        "b83c8f4d01a4419d8e27e5a308b39d1b": {
          "model_module": "@jupyter-widgets/controls",
          "model_name": "DescriptionStyleModel",
          "model_module_version": "1.5.0",
          "state": {
            "_view_name": "StyleView",
            "_model_name": "DescriptionStyleModel",
            "description_width": "",
            "_view_module": "@jupyter-widgets/base",
            "_model_module_version": "1.5.0",
            "_view_count": null,
            "_view_module_version": "1.2.0",
            "_model_module": "@jupyter-widgets/controls"
          }
        },
        "932c752fd5fb42f4a714f8fc372d08cb": {
          "model_module": "@jupyter-widgets/base",
          "model_name": "LayoutModel",
          "model_module_version": "1.2.0",
          "state": {
            "_view_name": "LayoutView",
            "grid_template_rows": null,
            "right": null,
            "justify_content": null,
            "_view_module": "@jupyter-widgets/base",
            "overflow": null,
            "_model_module_version": "1.2.0",
            "_view_count": null,
            "flex_flow": null,
            "width": null,
            "min_width": null,
            "border": null,
            "align_items": null,
            "bottom": null,
            "_model_module": "@jupyter-widgets/base",
            "top": null,
            "grid_column": null,
            "overflow_y": null,
            "overflow_x": null,
            "grid_auto_flow": null,
            "grid_area": null,
            "grid_template_columns": null,
            "flex": null,
            "_model_name": "LayoutModel",
            "justify_items": null,
            "grid_row": null,
            "max_height": null,
            "align_content": null,
            "visibility": null,
            "align_self": null,
            "height": null,
            "min_height": null,
            "padding": null,
            "grid_auto_rows": null,
            "grid_gap": null,
            "max_width": null,
            "order": null,
            "_view_module_version": "1.2.0",
            "grid_template_areas": null,
            "object_position": null,
            "object_fit": null,
            "grid_auto_columns": null,
            "margin": null,
            "display": null,
            "left": null
          }
        },
        "e552dfa912344996a8835f468d1f27d3": {
          "model_module": "@jupyter-widgets/controls",
          "model_name": "HBoxModel",
          "model_module_version": "1.5.0",
          "state": {
            "_view_name": "HBoxView",
            "_dom_classes": [],
            "_model_name": "HBoxModel",
            "_view_module": "@jupyter-widgets/controls",
            "_model_module_version": "1.5.0",
            "_view_count": null,
            "_view_module_version": "1.5.0",
            "box_style": "",
            "layout": "IPY_MODEL_24c382687bca41c4bab00171a7d36831",
            "_model_module": "@jupyter-widgets/controls",
            "children": [
              "IPY_MODEL_7183265a3d0f4baf95a4007076a41980",
              "IPY_MODEL_bf6047816f904ba681f338e2bb6d655a"
            ]
          }
        },
        "24c382687bca41c4bab00171a7d36831": {
          "model_module": "@jupyter-widgets/base",
          "model_name": "LayoutModel",
          "model_module_version": "1.2.0",
          "state": {
            "_view_name": "LayoutView",
            "grid_template_rows": null,
            "right": null,
            "justify_content": null,
            "_view_module": "@jupyter-widgets/base",
            "overflow": null,
            "_model_module_version": "1.2.0",
            "_view_count": null,
            "flex_flow": null,
            "width": null,
            "min_width": null,
            "border": null,
            "align_items": null,
            "bottom": null,
            "_model_module": "@jupyter-widgets/base",
            "top": null,
            "grid_column": null,
            "overflow_y": null,
            "overflow_x": null,
            "grid_auto_flow": null,
            "grid_area": null,
            "grid_template_columns": null,
            "flex": null,
            "_model_name": "LayoutModel",
            "justify_items": null,
            "grid_row": null,
            "max_height": null,
            "align_content": null,
            "visibility": null,
            "align_self": null,
            "height": null,
            "min_height": null,
            "padding": null,
            "grid_auto_rows": null,
            "grid_gap": null,
            "max_width": null,
            "order": null,
            "_view_module_version": "1.2.0",
            "grid_template_areas": null,
            "object_position": null,
            "object_fit": null,
            "grid_auto_columns": null,
            "margin": null,
            "display": null,
            "left": null
          }
        },
        "7183265a3d0f4baf95a4007076a41980": {
          "model_module": "@jupyter-widgets/controls",
          "model_name": "FloatProgressModel",
          "model_module_version": "1.5.0",
          "state": {
            "_view_name": "ProgressView",
            "style": "IPY_MODEL_8ee7e3462caa4ad5bab4253d08daa171",
            "_dom_classes": [],
            "description": "Training: 100%",
            "_model_name": "FloatProgressModel",
            "bar_style": "success",
            "max": 50,
            "_view_module": "@jupyter-widgets/controls",
            "_model_module_version": "1.5.0",
            "value": 50,
            "_view_count": null,
            "_view_module_version": "1.5.0",
            "orientation": "horizontal",
            "min": 0,
            "description_tooltip": null,
            "_model_module": "@jupyter-widgets/controls",
            "layout": "IPY_MODEL_7390849f069e4bc892baa0c7e25c6188"
          }
        },
        "bf6047816f904ba681f338e2bb6d655a": {
          "model_module": "@jupyter-widgets/controls",
          "model_name": "HTMLModel",
          "model_module_version": "1.5.0",
          "state": {
            "_view_name": "HTMLView",
            "style": "IPY_MODEL_048df7632d1642c6b2570fe1840069eb",
            "_dom_classes": [],
            "description": "",
            "_model_name": "HTMLModel",
            "placeholder": "​",
            "_view_module": "@jupyter-widgets/controls",
            "_model_module_version": "1.5.0",
            "value": " 50/50 [23:46&lt;00:00, 28.53s/epoch, loss=1.75]",
            "_view_count": null,
            "_view_module_version": "1.5.0",
            "description_tooltip": null,
            "_model_module": "@jupyter-widgets/controls",
            "layout": "IPY_MODEL_a71598188af648b8beb7d763ea05c710"
          }
        },
        "8ee7e3462caa4ad5bab4253d08daa171": {
          "model_module": "@jupyter-widgets/controls",
          "model_name": "ProgressStyleModel",
          "model_module_version": "1.5.0",
          "state": {
            "_view_name": "StyleView",
            "_model_name": "ProgressStyleModel",
            "description_width": "initial",
            "_view_module": "@jupyter-widgets/base",
            "_model_module_version": "1.5.0",
            "_view_count": null,
            "_view_module_version": "1.2.0",
            "bar_color": null,
            "_model_module": "@jupyter-widgets/controls"
          }
        },
        "7390849f069e4bc892baa0c7e25c6188": {
          "model_module": "@jupyter-widgets/base",
          "model_name": "LayoutModel",
          "model_module_version": "1.2.0",
          "state": {
            "_view_name": "LayoutView",
            "grid_template_rows": null,
            "right": null,
            "justify_content": null,
            "_view_module": "@jupyter-widgets/base",
            "overflow": null,
            "_model_module_version": "1.2.0",
            "_view_count": null,
            "flex_flow": null,
            "width": null,
            "min_width": null,
            "border": null,
            "align_items": null,
            "bottom": null,
            "_model_module": "@jupyter-widgets/base",
            "top": null,
            "grid_column": null,
            "overflow_y": null,
            "overflow_x": null,
            "grid_auto_flow": null,
            "grid_area": null,
            "grid_template_columns": null,
            "flex": null,
            "_model_name": "LayoutModel",
            "justify_items": null,
            "grid_row": null,
            "max_height": null,
            "align_content": null,
            "visibility": null,
            "align_self": null,
            "height": null,
            "min_height": null,
            "padding": null,
            "grid_auto_rows": null,
            "grid_gap": null,
            "max_width": null,
            "order": null,
            "_view_module_version": "1.2.0",
            "grid_template_areas": null,
            "object_position": null,
            "object_fit": null,
            "grid_auto_columns": null,
            "margin": null,
            "display": null,
            "left": null
          }
        },
        "048df7632d1642c6b2570fe1840069eb": {
          "model_module": "@jupyter-widgets/controls",
          "model_name": "DescriptionStyleModel",
          "model_module_version": "1.5.0",
          "state": {
            "_view_name": "StyleView",
            "_model_name": "DescriptionStyleModel",
            "description_width": "",
            "_view_module": "@jupyter-widgets/base",
            "_model_module_version": "1.5.0",
            "_view_count": null,
            "_view_module_version": "1.2.0",
            "_model_module": "@jupyter-widgets/controls"
          }
        },
        "a71598188af648b8beb7d763ea05c710": {
          "model_module": "@jupyter-widgets/base",
          "model_name": "LayoutModel",
          "model_module_version": "1.2.0",
          "state": {
            "_view_name": "LayoutView",
            "grid_template_rows": null,
            "right": null,
            "justify_content": null,
            "_view_module": "@jupyter-widgets/base",
            "overflow": null,
            "_model_module_version": "1.2.0",
            "_view_count": null,
            "flex_flow": null,
            "width": null,
            "min_width": null,
            "border": null,
            "align_items": null,
            "bottom": null,
            "_model_module": "@jupyter-widgets/base",
            "top": null,
            "grid_column": null,
            "overflow_y": null,
            "overflow_x": null,
            "grid_auto_flow": null,
            "grid_area": null,
            "grid_template_columns": null,
            "flex": null,
            "_model_name": "LayoutModel",
            "justify_items": null,
            "grid_row": null,
            "max_height": null,
            "align_content": null,
            "visibility": null,
            "align_self": null,
            "height": null,
            "min_height": null,
            "padding": null,
            "grid_auto_rows": null,
            "grid_gap": null,
            "max_width": null,
            "order": null,
            "_view_module_version": "1.2.0",
            "grid_template_areas": null,
            "object_position": null,
            "object_fit": null,
            "grid_auto_columns": null,
            "margin": null,
            "display": null,
            "left": null
          }
        },
        "903d46ce405e49688fe86e8091c3075d": {
          "model_module": "@jupyter-widgets/controls",
          "model_name": "HBoxModel",
          "model_module_version": "1.5.0",
          "state": {
            "_view_name": "HBoxView",
            "_dom_classes": [],
            "_model_name": "HBoxModel",
            "_view_module": "@jupyter-widgets/controls",
            "_model_module_version": "1.5.0",
            "_view_count": null,
            "_view_module_version": "1.5.0",
            "box_style": "",
            "layout": "IPY_MODEL_14a1d55b468842de91527b6ea7474212",
            "_model_module": "@jupyter-widgets/controls",
            "children": [
              "IPY_MODEL_ad86d462f45f4f899f79b3526039732d",
              "IPY_MODEL_a54a239906e54b55a7febfe3c67b3dd8"
            ]
          }
        },
        "14a1d55b468842de91527b6ea7474212": {
          "model_module": "@jupyter-widgets/base",
          "model_name": "LayoutModel",
          "model_module_version": "1.2.0",
          "state": {
            "_view_name": "LayoutView",
            "grid_template_rows": null,
            "right": null,
            "justify_content": null,
            "_view_module": "@jupyter-widgets/base",
            "overflow": null,
            "_model_module_version": "1.2.0",
            "_view_count": null,
            "flex_flow": null,
            "width": null,
            "min_width": null,
            "border": null,
            "align_items": null,
            "bottom": null,
            "_model_module": "@jupyter-widgets/base",
            "top": null,
            "grid_column": null,
            "overflow_y": null,
            "overflow_x": null,
            "grid_auto_flow": null,
            "grid_area": null,
            "grid_template_columns": null,
            "flex": null,
            "_model_name": "LayoutModel",
            "justify_items": null,
            "grid_row": null,
            "max_height": null,
            "align_content": null,
            "visibility": null,
            "align_self": null,
            "height": null,
            "min_height": null,
            "padding": null,
            "grid_auto_rows": null,
            "grid_gap": null,
            "max_width": null,
            "order": null,
            "_view_module_version": "1.2.0",
            "grid_template_areas": null,
            "object_position": null,
            "object_fit": null,
            "grid_auto_columns": null,
            "margin": null,
            "display": null,
            "left": null
          }
        },
        "ad86d462f45f4f899f79b3526039732d": {
          "model_module": "@jupyter-widgets/controls",
          "model_name": "FloatProgressModel",
          "model_module_version": "1.5.0",
          "state": {
            "_view_name": "ProgressView",
            "style": "IPY_MODEL_c5be2588bf1e4551a65f601812ba59b9",
            "_dom_classes": [],
            "description": "Training: 100%",
            "_model_name": "FloatProgressModel",
            "bar_style": "success",
            "max": 50,
            "_view_module": "@jupyter-widgets/controls",
            "_model_module_version": "1.5.0",
            "value": 50,
            "_view_count": null,
            "_view_module_version": "1.5.0",
            "orientation": "horizontal",
            "min": 0,
            "description_tooltip": null,
            "_model_module": "@jupyter-widgets/controls",
            "layout": "IPY_MODEL_b109d0bb482846889d3f2b10ca6b9dc4"
          }
        },
        "a54a239906e54b55a7febfe3c67b3dd8": {
          "model_module": "@jupyter-widgets/controls",
          "model_name": "HTMLModel",
          "model_module_version": "1.5.0",
          "state": {
            "_view_name": "HTMLView",
            "style": "IPY_MODEL_ae6aa230b12e48b48dfadd974dd84e25",
            "_dom_classes": [],
            "description": "",
            "_model_name": "HTMLModel",
            "placeholder": "​",
            "_view_module": "@jupyter-widgets/controls",
            "_model_module_version": "1.5.0",
            "value": " 50/50 [19:03&lt;00:00, 22.87s/epoch, loss=1.74]",
            "_view_count": null,
            "_view_module_version": "1.5.0",
            "description_tooltip": null,
            "_model_module": "@jupyter-widgets/controls",
            "layout": "IPY_MODEL_a67e6142bb5a481eb6f7fb3e7e92e68d"
          }
        },
        "c5be2588bf1e4551a65f601812ba59b9": {
          "model_module": "@jupyter-widgets/controls",
          "model_name": "ProgressStyleModel",
          "model_module_version": "1.5.0",
          "state": {
            "_view_name": "StyleView",
            "_model_name": "ProgressStyleModel",
            "description_width": "initial",
            "_view_module": "@jupyter-widgets/base",
            "_model_module_version": "1.5.0",
            "_view_count": null,
            "_view_module_version": "1.2.0",
            "bar_color": null,
            "_model_module": "@jupyter-widgets/controls"
          }
        },
        "b109d0bb482846889d3f2b10ca6b9dc4": {
          "model_module": "@jupyter-widgets/base",
          "model_name": "LayoutModel",
          "model_module_version": "1.2.0",
          "state": {
            "_view_name": "LayoutView",
            "grid_template_rows": null,
            "right": null,
            "justify_content": null,
            "_view_module": "@jupyter-widgets/base",
            "overflow": null,
            "_model_module_version": "1.2.0",
            "_view_count": null,
            "flex_flow": null,
            "width": null,
            "min_width": null,
            "border": null,
            "align_items": null,
            "bottom": null,
            "_model_module": "@jupyter-widgets/base",
            "top": null,
            "grid_column": null,
            "overflow_y": null,
            "overflow_x": null,
            "grid_auto_flow": null,
            "grid_area": null,
            "grid_template_columns": null,
            "flex": null,
            "_model_name": "LayoutModel",
            "justify_items": null,
            "grid_row": null,
            "max_height": null,
            "align_content": null,
            "visibility": null,
            "align_self": null,
            "height": null,
            "min_height": null,
            "padding": null,
            "grid_auto_rows": null,
            "grid_gap": null,
            "max_width": null,
            "order": null,
            "_view_module_version": "1.2.0",
            "grid_template_areas": null,
            "object_position": null,
            "object_fit": null,
            "grid_auto_columns": null,
            "margin": null,
            "display": null,
            "left": null
          }
        },
        "ae6aa230b12e48b48dfadd974dd84e25": {
          "model_module": "@jupyter-widgets/controls",
          "model_name": "DescriptionStyleModel",
          "model_module_version": "1.5.0",
          "state": {
            "_view_name": "StyleView",
            "_model_name": "DescriptionStyleModel",
            "description_width": "",
            "_view_module": "@jupyter-widgets/base",
            "_model_module_version": "1.5.0",
            "_view_count": null,
            "_view_module_version": "1.2.0",
            "_model_module": "@jupyter-widgets/controls"
          }
        },
        "a67e6142bb5a481eb6f7fb3e7e92e68d": {
          "model_module": "@jupyter-widgets/base",
          "model_name": "LayoutModel",
          "model_module_version": "1.2.0",
          "state": {
            "_view_name": "LayoutView",
            "grid_template_rows": null,
            "right": null,
            "justify_content": null,
            "_view_module": "@jupyter-widgets/base",
            "overflow": null,
            "_model_module_version": "1.2.0",
            "_view_count": null,
            "flex_flow": null,
            "width": null,
            "min_width": null,
            "border": null,
            "align_items": null,
            "bottom": null,
            "_model_module": "@jupyter-widgets/base",
            "top": null,
            "grid_column": null,
            "overflow_y": null,
            "overflow_x": null,
            "grid_auto_flow": null,
            "grid_area": null,
            "grid_template_columns": null,
            "flex": null,
            "_model_name": "LayoutModel",
            "justify_items": null,
            "grid_row": null,
            "max_height": null,
            "align_content": null,
            "visibility": null,
            "align_self": null,
            "height": null,
            "min_height": null,
            "padding": null,
            "grid_auto_rows": null,
            "grid_gap": null,
            "max_width": null,
            "order": null,
            "_view_module_version": "1.2.0",
            "grid_template_areas": null,
            "object_position": null,
            "object_fit": null,
            "grid_auto_columns": null,
            "margin": null,
            "display": null,
            "left": null
          }
        },
        "6905fce7caed4c8eb6b9132456b7ce83": {
          "model_module": "@jupyter-widgets/controls",
          "model_name": "HBoxModel",
          "model_module_version": "1.5.0",
          "state": {
            "_view_name": "HBoxView",
            "_dom_classes": [],
            "_model_name": "HBoxModel",
            "_view_module": "@jupyter-widgets/controls",
            "_model_module_version": "1.5.0",
            "_view_count": null,
            "_view_module_version": "1.5.0",
            "box_style": "",
            "layout": "IPY_MODEL_3fc6010ddb0a4343957259a35d409bde",
            "_model_module": "@jupyter-widgets/controls",
            "children": [
              "IPY_MODEL_4dbcccdd47494b0080a3ddb58f78db79",
              "IPY_MODEL_add790de876f40a4a776b6bf510ec7ae"
            ]
          }
        },
        "3fc6010ddb0a4343957259a35d409bde": {
          "model_module": "@jupyter-widgets/base",
          "model_name": "LayoutModel",
          "model_module_version": "1.2.0",
          "state": {
            "_view_name": "LayoutView",
            "grid_template_rows": null,
            "right": null,
            "justify_content": null,
            "_view_module": "@jupyter-widgets/base",
            "overflow": null,
            "_model_module_version": "1.2.0",
            "_view_count": null,
            "flex_flow": null,
            "width": null,
            "min_width": null,
            "border": null,
            "align_items": null,
            "bottom": null,
            "_model_module": "@jupyter-widgets/base",
            "top": null,
            "grid_column": null,
            "overflow_y": null,
            "overflow_x": null,
            "grid_auto_flow": null,
            "grid_area": null,
            "grid_template_columns": null,
            "flex": null,
            "_model_name": "LayoutModel",
            "justify_items": null,
            "grid_row": null,
            "max_height": null,
            "align_content": null,
            "visibility": null,
            "align_self": null,
            "height": null,
            "min_height": null,
            "padding": null,
            "grid_auto_rows": null,
            "grid_gap": null,
            "max_width": null,
            "order": null,
            "_view_module_version": "1.2.0",
            "grid_template_areas": null,
            "object_position": null,
            "object_fit": null,
            "grid_auto_columns": null,
            "margin": null,
            "display": null,
            "left": null
          }
        },
        "4dbcccdd47494b0080a3ddb58f78db79": {
          "model_module": "@jupyter-widgets/controls",
          "model_name": "FloatProgressModel",
          "model_module_version": "1.5.0",
          "state": {
            "_view_name": "ProgressView",
            "style": "IPY_MODEL_70d90a18ab5b4325ad6d775448fdc9f5",
            "_dom_classes": [],
            "description": "Training: 100%",
            "_model_name": "FloatProgressModel",
            "bar_style": "success",
            "max": 50,
            "_view_module": "@jupyter-widgets/controls",
            "_model_module_version": "1.5.0",
            "value": 50,
            "_view_count": null,
            "_view_module_version": "1.5.0",
            "orientation": "horizontal",
            "min": 0,
            "description_tooltip": null,
            "_model_module": "@jupyter-widgets/controls",
            "layout": "IPY_MODEL_cbe0162577a5424b90d2a0d1dc9c4dee"
          }
        },
        "add790de876f40a4a776b6bf510ec7ae": {
          "model_module": "@jupyter-widgets/controls",
          "model_name": "HTMLModel",
          "model_module_version": "1.5.0",
          "state": {
            "_view_name": "HTMLView",
            "style": "IPY_MODEL_f588fbb7090d4c7b82eee080c1c6280c",
            "_dom_classes": [],
            "description": "",
            "_model_name": "HTMLModel",
            "placeholder": "​",
            "_view_module": "@jupyter-widgets/controls",
            "_model_module_version": "1.5.0",
            "value": " 50/50 [27:40&lt;00:00, 33.20s/epoch, loss=1.77]",
            "_view_count": null,
            "_view_module_version": "1.5.0",
            "description_tooltip": null,
            "_model_module": "@jupyter-widgets/controls",
            "layout": "IPY_MODEL_a94ecc5031594ce3b165c1221373a361"
          }
        },
        "70d90a18ab5b4325ad6d775448fdc9f5": {
          "model_module": "@jupyter-widgets/controls",
          "model_name": "ProgressStyleModel",
          "model_module_version": "1.5.0",
          "state": {
            "_view_name": "StyleView",
            "_model_name": "ProgressStyleModel",
            "description_width": "initial",
            "_view_module": "@jupyter-widgets/base",
            "_model_module_version": "1.5.0",
            "_view_count": null,
            "_view_module_version": "1.2.0",
            "bar_color": null,
            "_model_module": "@jupyter-widgets/controls"
          }
        },
        "cbe0162577a5424b90d2a0d1dc9c4dee": {
          "model_module": "@jupyter-widgets/base",
          "model_name": "LayoutModel",
          "model_module_version": "1.2.0",
          "state": {
            "_view_name": "LayoutView",
            "grid_template_rows": null,
            "right": null,
            "justify_content": null,
            "_view_module": "@jupyter-widgets/base",
            "overflow": null,
            "_model_module_version": "1.2.0",
            "_view_count": null,
            "flex_flow": null,
            "width": null,
            "min_width": null,
            "border": null,
            "align_items": null,
            "bottom": null,
            "_model_module": "@jupyter-widgets/base",
            "top": null,
            "grid_column": null,
            "overflow_y": null,
            "overflow_x": null,
            "grid_auto_flow": null,
            "grid_area": null,
            "grid_template_columns": null,
            "flex": null,
            "_model_name": "LayoutModel",
            "justify_items": null,
            "grid_row": null,
            "max_height": null,
            "align_content": null,
            "visibility": null,
            "align_self": null,
            "height": null,
            "min_height": null,
            "padding": null,
            "grid_auto_rows": null,
            "grid_gap": null,
            "max_width": null,
            "order": null,
            "_view_module_version": "1.2.0",
            "grid_template_areas": null,
            "object_position": null,
            "object_fit": null,
            "grid_auto_columns": null,
            "margin": null,
            "display": null,
            "left": null
          }
        },
        "f588fbb7090d4c7b82eee080c1c6280c": {
          "model_module": "@jupyter-widgets/controls",
          "model_name": "DescriptionStyleModel",
          "model_module_version": "1.5.0",
          "state": {
            "_view_name": "StyleView",
            "_model_name": "DescriptionStyleModel",
            "description_width": "",
            "_view_module": "@jupyter-widgets/base",
            "_model_module_version": "1.5.0",
            "_view_count": null,
            "_view_module_version": "1.2.0",
            "_model_module": "@jupyter-widgets/controls"
          }
        },
        "a94ecc5031594ce3b165c1221373a361": {
          "model_module": "@jupyter-widgets/base",
          "model_name": "LayoutModel",
          "model_module_version": "1.2.0",
          "state": {
            "_view_name": "LayoutView",
            "grid_template_rows": null,
            "right": null,
            "justify_content": null,
            "_view_module": "@jupyter-widgets/base",
            "overflow": null,
            "_model_module_version": "1.2.0",
            "_view_count": null,
            "flex_flow": null,
            "width": null,
            "min_width": null,
            "border": null,
            "align_items": null,
            "bottom": null,
            "_model_module": "@jupyter-widgets/base",
            "top": null,
            "grid_column": null,
            "overflow_y": null,
            "overflow_x": null,
            "grid_auto_flow": null,
            "grid_area": null,
            "grid_template_columns": null,
            "flex": null,
            "_model_name": "LayoutModel",
            "justify_items": null,
            "grid_row": null,
            "max_height": null,
            "align_content": null,
            "visibility": null,
            "align_self": null,
            "height": null,
            "min_height": null,
            "padding": null,
            "grid_auto_rows": null,
            "grid_gap": null,
            "max_width": null,
            "order": null,
            "_view_module_version": "1.2.0",
            "grid_template_areas": null,
            "object_position": null,
            "object_fit": null,
            "grid_auto_columns": null,
            "margin": null,
            "display": null,
            "left": null
          }
        },
        "4c9d01d192c34f67922e4566d0474d74": {
          "model_module": "@jupyter-widgets/controls",
          "model_name": "HBoxModel",
          "model_module_version": "1.5.0",
          "state": {
            "_view_name": "HBoxView",
            "_dom_classes": [],
            "_model_name": "HBoxModel",
            "_view_module": "@jupyter-widgets/controls",
            "_model_module_version": "1.5.0",
            "_view_count": null,
            "_view_module_version": "1.5.0",
            "box_style": "",
            "layout": "IPY_MODEL_693a904bc74c4661a26bb4352e5a3335",
            "_model_module": "@jupyter-widgets/controls",
            "children": [
              "IPY_MODEL_93745946cc8d40d09992ca9e8a205243",
              "IPY_MODEL_e686e8dd897f4509961cb99e2cbc9f0c"
            ]
          }
        },
        "693a904bc74c4661a26bb4352e5a3335": {
          "model_module": "@jupyter-widgets/base",
          "model_name": "LayoutModel",
          "model_module_version": "1.2.0",
          "state": {
            "_view_name": "LayoutView",
            "grid_template_rows": null,
            "right": null,
            "justify_content": null,
            "_view_module": "@jupyter-widgets/base",
            "overflow": null,
            "_model_module_version": "1.2.0",
            "_view_count": null,
            "flex_flow": null,
            "width": null,
            "min_width": null,
            "border": null,
            "align_items": null,
            "bottom": null,
            "_model_module": "@jupyter-widgets/base",
            "top": null,
            "grid_column": null,
            "overflow_y": null,
            "overflow_x": null,
            "grid_auto_flow": null,
            "grid_area": null,
            "grid_template_columns": null,
            "flex": null,
            "_model_name": "LayoutModel",
            "justify_items": null,
            "grid_row": null,
            "max_height": null,
            "align_content": null,
            "visibility": null,
            "align_self": null,
            "height": null,
            "min_height": null,
            "padding": null,
            "grid_auto_rows": null,
            "grid_gap": null,
            "max_width": null,
            "order": null,
            "_view_module_version": "1.2.0",
            "grid_template_areas": null,
            "object_position": null,
            "object_fit": null,
            "grid_auto_columns": null,
            "margin": null,
            "display": null,
            "left": null
          }
        },
        "93745946cc8d40d09992ca9e8a205243": {
          "model_module": "@jupyter-widgets/controls",
          "model_name": "FloatProgressModel",
          "model_module_version": "1.5.0",
          "state": {
            "_view_name": "ProgressView",
            "style": "IPY_MODEL_1724869d5fa04d208b4b574311e95c8c",
            "_dom_classes": [],
            "description": "Training:   0%",
            "_model_name": "FloatProgressModel",
            "bar_style": "",
            "max": 50,
            "_view_module": "@jupyter-widgets/controls",
            "_model_module_version": "1.5.0",
            "value": 0,
            "_view_count": null,
            "_view_module_version": "1.5.0",
            "orientation": "horizontal",
            "min": 0,
            "description_tooltip": null,
            "_model_module": "@jupyter-widgets/controls",
            "layout": "IPY_MODEL_d420664ff4604f3fb976b86a4e6e59c4"
          }
        },
        "e686e8dd897f4509961cb99e2cbc9f0c": {
          "model_module": "@jupyter-widgets/controls",
          "model_name": "HTMLModel",
          "model_module_version": "1.5.0",
          "state": {
            "_view_name": "HTMLView",
            "style": "IPY_MODEL_73e6dcbae47d4cda9bcf8503920f7305",
            "_dom_classes": [],
            "description": "",
            "_model_name": "HTMLModel",
            "placeholder": "​",
            "_view_module": "@jupyter-widgets/controls",
            "_model_module_version": "1.5.0",
            "value": " 0/50 [00:27&lt;?, ?epoch/s, loss=2.01]",
            "_view_count": null,
            "_view_module_version": "1.5.0",
            "description_tooltip": null,
            "_model_module": "@jupyter-widgets/controls",
            "layout": "IPY_MODEL_a0228209059c49f8b19bdf17ed2c0f87"
          }
        },
        "1724869d5fa04d208b4b574311e95c8c": {
          "model_module": "@jupyter-widgets/controls",
          "model_name": "ProgressStyleModel",
          "model_module_version": "1.5.0",
          "state": {
            "_view_name": "StyleView",
            "_model_name": "ProgressStyleModel",
            "description_width": "initial",
            "_view_module": "@jupyter-widgets/base",
            "_model_module_version": "1.5.0",
            "_view_count": null,
            "_view_module_version": "1.2.0",
            "bar_color": null,
            "_model_module": "@jupyter-widgets/controls"
          }
        },
        "d420664ff4604f3fb976b86a4e6e59c4": {
          "model_module": "@jupyter-widgets/base",
          "model_name": "LayoutModel",
          "model_module_version": "1.2.0",
          "state": {
            "_view_name": "LayoutView",
            "grid_template_rows": null,
            "right": null,
            "justify_content": null,
            "_view_module": "@jupyter-widgets/base",
            "overflow": null,
            "_model_module_version": "1.2.0",
            "_view_count": null,
            "flex_flow": null,
            "width": null,
            "min_width": null,
            "border": null,
            "align_items": null,
            "bottom": null,
            "_model_module": "@jupyter-widgets/base",
            "top": null,
            "grid_column": null,
            "overflow_y": null,
            "overflow_x": null,
            "grid_auto_flow": null,
            "grid_area": null,
            "grid_template_columns": null,
            "flex": null,
            "_model_name": "LayoutModel",
            "justify_items": null,
            "grid_row": null,
            "max_height": null,
            "align_content": null,
            "visibility": null,
            "align_self": null,
            "height": null,
            "min_height": null,
            "padding": null,
            "grid_auto_rows": null,
            "grid_gap": null,
            "max_width": null,
            "order": null,
            "_view_module_version": "1.2.0",
            "grid_template_areas": null,
            "object_position": null,
            "object_fit": null,
            "grid_auto_columns": null,
            "margin": null,
            "display": null,
            "left": null
          }
        },
        "73e6dcbae47d4cda9bcf8503920f7305": {
          "model_module": "@jupyter-widgets/controls",
          "model_name": "DescriptionStyleModel",
          "model_module_version": "1.5.0",
          "state": {
            "_view_name": "StyleView",
            "_model_name": "DescriptionStyleModel",
            "description_width": "",
            "_view_module": "@jupyter-widgets/base",
            "_model_module_version": "1.5.0",
            "_view_count": null,
            "_view_module_version": "1.2.0",
            "_model_module": "@jupyter-widgets/controls"
          }
        },
        "a0228209059c49f8b19bdf17ed2c0f87": {
          "model_module": "@jupyter-widgets/base",
          "model_name": "LayoutModel",
          "model_module_version": "1.2.0",
          "state": {
            "_view_name": "LayoutView",
            "grid_template_rows": null,
            "right": null,
            "justify_content": null,
            "_view_module": "@jupyter-widgets/base",
            "overflow": null,
            "_model_module_version": "1.2.0",
            "_view_count": null,
            "flex_flow": null,
            "width": null,
            "min_width": null,
            "border": null,
            "align_items": null,
            "bottom": null,
            "_model_module": "@jupyter-widgets/base",
            "top": null,
            "grid_column": null,
            "overflow_y": null,
            "overflow_x": null,
            "grid_auto_flow": null,
            "grid_area": null,
            "grid_template_columns": null,
            "flex": null,
            "_model_name": "LayoutModel",
            "justify_items": null,
            "grid_row": null,
            "max_height": null,
            "align_content": null,
            "visibility": null,
            "align_self": null,
            "height": null,
            "min_height": null,
            "padding": null,
            "grid_auto_rows": null,
            "grid_gap": null,
            "max_width": null,
            "order": null,
            "_view_module_version": "1.2.0",
            "grid_template_areas": null,
            "object_position": null,
            "object_fit": null,
            "grid_auto_columns": null,
            "margin": null,
            "display": null,
            "left": null
          }
        }
      }
    },
    "accelerator": "GPU"
  },
  "cells": [
    {
      "cell_type": "markdown",
      "metadata": {
        "id": "tInjwFwaszkK"
      },
      "source": [
        "Until now we have been training the model with png spectrograms, which are colour images and therefor have 3 channels. The colour is just a color map, it doesn't actually mean anything, so we might as well train with the raw spectrogram values. \n",
        "\n",
        "I calculated the spectrograms and saved them all as .npy files, so I'll need to figure out how to get those into the data loader, then change the input channels to 1. \n",
        "\n"
      ]
    },
    {
      "cell_type": "code",
      "metadata": {
        "id": "NQz2PJsAw-TN"
      },
      "source": [
        "# Import necessary libraries.\n",
        "import os\n",
        "import glob\n",
        "import imageio\n",
        "import random, shutil\n",
        "import torch\n",
        "import torch.nn as nn\n",
        "from tqdm.notebook import tqdm\n",
        "import torch.nn.functional as F\n",
        "import torchvision.datasets as datasets\n",
        "import torchvision.transforms as transforms\n",
        "import numpy as np\n",
        "import matplotlib.pyplot as plt\n",
        "import IPython.display as display\n",
        "import librosa\n",
        "import librosa.display\n",
        "import pandas as pd\n",
        "import seaborn as sns\n"
      ],
      "execution_count": null,
      "outputs": []
    },
    {
      "cell_type": "code",
      "metadata": {
        "colab": {
          "base_uri": "https://localhost:8080/"
        },
        "id": "3c-Ksq6Py0Ve",
        "outputId": "fb0410c6-21d7-4d69-af92-2ef2fc0711e3"
      },
      "source": [
        "pip install torchaudio\n"
      ],
      "execution_count": null,
      "outputs": [
        {
          "output_type": "stream",
          "text": [
            "Collecting torchaudio\n",
            "  Downloading torchaudio-0.9.0-cp37-cp37m-manylinux1_x86_64.whl (1.9 MB)\n",
            "\u001b[?25l\r\u001b[K     |▏                               | 10 kB 36.5 MB/s eta 0:00:01\r\u001b[K     |▍                               | 20 kB 34.6 MB/s eta 0:00:01\r\u001b[K     |▌                               | 30 kB 21.8 MB/s eta 0:00:01\r\u001b[K     |▊                               | 40 kB 17.6 MB/s eta 0:00:01\r\u001b[K     |▉                               | 51 kB 8.5 MB/s eta 0:00:01\r\u001b[K     |█                               | 61 kB 8.9 MB/s eta 0:00:01\r\u001b[K     |█▏                              | 71 kB 7.7 MB/s eta 0:00:01\r\u001b[K     |█▍                              | 81 kB 8.7 MB/s eta 0:00:01\r\u001b[K     |█▌                              | 92 kB 7.3 MB/s eta 0:00:01\r\u001b[K     |█▊                              | 102 kB 8.0 MB/s eta 0:00:01\r\u001b[K     |██                              | 112 kB 8.0 MB/s eta 0:00:01\r\u001b[K     |██                              | 122 kB 8.0 MB/s eta 0:00:01\r\u001b[K     |██▎                             | 133 kB 8.0 MB/s eta 0:00:01\r\u001b[K     |██▍                             | 143 kB 8.0 MB/s eta 0:00:01\r\u001b[K     |██▋                             | 153 kB 8.0 MB/s eta 0:00:01\r\u001b[K     |██▊                             | 163 kB 8.0 MB/s eta 0:00:01\r\u001b[K     |███                             | 174 kB 8.0 MB/s eta 0:00:01\r\u001b[K     |███                             | 184 kB 8.0 MB/s eta 0:00:01\r\u001b[K     |███▎                            | 194 kB 8.0 MB/s eta 0:00:01\r\u001b[K     |███▌                            | 204 kB 8.0 MB/s eta 0:00:01\r\u001b[K     |███▋                            | 215 kB 8.0 MB/s eta 0:00:01\r\u001b[K     |███▉                            | 225 kB 8.0 MB/s eta 0:00:01\r\u001b[K     |████                            | 235 kB 8.0 MB/s eta 0:00:01\r\u001b[K     |████▏                           | 245 kB 8.0 MB/s eta 0:00:01\r\u001b[K     |████▎                           | 256 kB 8.0 MB/s eta 0:00:01\r\u001b[K     |████▌                           | 266 kB 8.0 MB/s eta 0:00:01\r\u001b[K     |████▋                           | 276 kB 8.0 MB/s eta 0:00:01\r\u001b[K     |████▉                           | 286 kB 8.0 MB/s eta 0:00:01\r\u001b[K     |█████                           | 296 kB 8.0 MB/s eta 0:00:01\r\u001b[K     |█████▏                          | 307 kB 8.0 MB/s eta 0:00:01\r\u001b[K     |█████▍                          | 317 kB 8.0 MB/s eta 0:00:01\r\u001b[K     |█████▌                          | 327 kB 8.0 MB/s eta 0:00:01\r\u001b[K     |█████▊                          | 337 kB 8.0 MB/s eta 0:00:01\r\u001b[K     |█████▉                          | 348 kB 8.0 MB/s eta 0:00:01\r\u001b[K     |██████                          | 358 kB 8.0 MB/s eta 0:00:01\r\u001b[K     |██████▏                         | 368 kB 8.0 MB/s eta 0:00:01\r\u001b[K     |██████▍                         | 378 kB 8.0 MB/s eta 0:00:01\r\u001b[K     |██████▋                         | 389 kB 8.0 MB/s eta 0:00:01\r\u001b[K     |██████▊                         | 399 kB 8.0 MB/s eta 0:00:01\r\u001b[K     |███████                         | 409 kB 8.0 MB/s eta 0:00:01\r\u001b[K     |███████                         | 419 kB 8.0 MB/s eta 0:00:01\r\u001b[K     |███████▎                        | 430 kB 8.0 MB/s eta 0:00:01\r\u001b[K     |███████▍                        | 440 kB 8.0 MB/s eta 0:00:01\r\u001b[K     |███████▋                        | 450 kB 8.0 MB/s eta 0:00:01\r\u001b[K     |███████▊                        | 460 kB 8.0 MB/s eta 0:00:01\r\u001b[K     |████████                        | 471 kB 8.0 MB/s eta 0:00:01\r\u001b[K     |████████▏                       | 481 kB 8.0 MB/s eta 0:00:01\r\u001b[K     |████████▎                       | 491 kB 8.0 MB/s eta 0:00:01\r\u001b[K     |████████▌                       | 501 kB 8.0 MB/s eta 0:00:01\r\u001b[K     |████████▋                       | 512 kB 8.0 MB/s eta 0:00:01\r\u001b[K     |████████▉                       | 522 kB 8.0 MB/s eta 0:00:01\r\u001b[K     |█████████                       | 532 kB 8.0 MB/s eta 0:00:01\r\u001b[K     |█████████▏                      | 542 kB 8.0 MB/s eta 0:00:01\r\u001b[K     |█████████▎                      | 552 kB 8.0 MB/s eta 0:00:01\r\u001b[K     |█████████▌                      | 563 kB 8.0 MB/s eta 0:00:01\r\u001b[K     |█████████▊                      | 573 kB 8.0 MB/s eta 0:00:01\r\u001b[K     |█████████▉                      | 583 kB 8.0 MB/s eta 0:00:01\r\u001b[K     |██████████                      | 593 kB 8.0 MB/s eta 0:00:01\r\u001b[K     |██████████▏                     | 604 kB 8.0 MB/s eta 0:00:01\r\u001b[K     |██████████▍                     | 614 kB 8.0 MB/s eta 0:00:01\r\u001b[K     |██████████▌                     | 624 kB 8.0 MB/s eta 0:00:01\r\u001b[K     |██████████▊                     | 634 kB 8.0 MB/s eta 0:00:01\r\u001b[K     |██████████▉                     | 645 kB 8.0 MB/s eta 0:00:01\r\u001b[K     |███████████                     | 655 kB 8.0 MB/s eta 0:00:01\r\u001b[K     |███████████▏                    | 665 kB 8.0 MB/s eta 0:00:01\r\u001b[K     |███████████▍                    | 675 kB 8.0 MB/s eta 0:00:01\r\u001b[K     |███████████▋                    | 686 kB 8.0 MB/s eta 0:00:01\r\u001b[K     |███████████▊                    | 696 kB 8.0 MB/s eta 0:00:01\r\u001b[K     |████████████                    | 706 kB 8.0 MB/s eta 0:00:01\r\u001b[K     |████████████                    | 716 kB 8.0 MB/s eta 0:00:01\r\u001b[K     |████████████▎                   | 727 kB 8.0 MB/s eta 0:00:01\r\u001b[K     |████████████▍                   | 737 kB 8.0 MB/s eta 0:00:01\r\u001b[K     |████████████▋                   | 747 kB 8.0 MB/s eta 0:00:01\r\u001b[K     |████████████▊                   | 757 kB 8.0 MB/s eta 0:00:01\r\u001b[K     |█████████████                   | 768 kB 8.0 MB/s eta 0:00:01\r\u001b[K     |█████████████▏                  | 778 kB 8.0 MB/s eta 0:00:01\r\u001b[K     |█████████████▎                  | 788 kB 8.0 MB/s eta 0:00:01\r\u001b[K     |█████████████▌                  | 798 kB 8.0 MB/s eta 0:00:01\r\u001b[K     |█████████████▋                  | 808 kB 8.0 MB/s eta 0:00:01\r\u001b[K     |█████████████▉                  | 819 kB 8.0 MB/s eta 0:00:01\r\u001b[K     |██████████████                  | 829 kB 8.0 MB/s eta 0:00:01\r\u001b[K     |██████████████▏                 | 839 kB 8.0 MB/s eta 0:00:01\r\u001b[K     |██████████████▎                 | 849 kB 8.0 MB/s eta 0:00:01\r\u001b[K     |██████████████▌                 | 860 kB 8.0 MB/s eta 0:00:01\r\u001b[K     |██████████████▊                 | 870 kB 8.0 MB/s eta 0:00:01\r\u001b[K     |██████████████▉                 | 880 kB 8.0 MB/s eta 0:00:01\r\u001b[K     |███████████████                 | 890 kB 8.0 MB/s eta 0:00:01\r\u001b[K     |███████████████▏                | 901 kB 8.0 MB/s eta 0:00:01\r\u001b[K     |███████████████▍                | 911 kB 8.0 MB/s eta 0:00:01\r\u001b[K     |███████████████▌                | 921 kB 8.0 MB/s eta 0:00:01\r\u001b[K     |███████████████▊                | 931 kB 8.0 MB/s eta 0:00:01\r\u001b[K     |███████████████▉                | 942 kB 8.0 MB/s eta 0:00:01\r\u001b[K     |████████████████                | 952 kB 8.0 MB/s eta 0:00:01\r\u001b[K     |████████████████▎               | 962 kB 8.0 MB/s eta 0:00:01\r\u001b[K     |████████████████▍               | 972 kB 8.0 MB/s eta 0:00:01\r\u001b[K     |████████████████▋               | 983 kB 8.0 MB/s eta 0:00:01\r\u001b[K     |████████████████▊               | 993 kB 8.0 MB/s eta 0:00:01\r\u001b[K     |█████████████████               | 1.0 MB 8.0 MB/s eta 0:00:01\r\u001b[K     |█████████████████               | 1.0 MB 8.0 MB/s eta 0:00:01\r\u001b[K     |█████████████████▎              | 1.0 MB 8.0 MB/s eta 0:00:01\r\u001b[K     |█████████████████▍              | 1.0 MB 8.0 MB/s eta 0:00:01\r\u001b[K     |█████████████████▋              | 1.0 MB 8.0 MB/s eta 0:00:01\r\u001b[K     |█████████████████▉              | 1.1 MB 8.0 MB/s eta 0:00:01\r\u001b[K     |██████████████████              | 1.1 MB 8.0 MB/s eta 0:00:01\r\u001b[K     |██████████████████▏             | 1.1 MB 8.0 MB/s eta 0:00:01\r\u001b[K     |██████████████████▎             | 1.1 MB 8.0 MB/s eta 0:00:01\r\u001b[K     |██████████████████▌             | 1.1 MB 8.0 MB/s eta 0:00:01\r\u001b[K     |██████████████████▋             | 1.1 MB 8.0 MB/s eta 0:00:01\r\u001b[K     |██████████████████▉             | 1.1 MB 8.0 MB/s eta 0:00:01\r\u001b[K     |███████████████████             | 1.1 MB 8.0 MB/s eta 0:00:01\r\u001b[K     |███████████████████▏            | 1.1 MB 8.0 MB/s eta 0:00:01\r\u001b[K     |███████████████████▍            | 1.1 MB 8.0 MB/s eta 0:00:01\r\u001b[K     |███████████████████▌            | 1.2 MB 8.0 MB/s eta 0:00:01\r\u001b[K     |███████████████████▊            | 1.2 MB 8.0 MB/s eta 0:00:01\r\u001b[K     |███████████████████▉            | 1.2 MB 8.0 MB/s eta 0:00:01\r\u001b[K     |████████████████████            | 1.2 MB 8.0 MB/s eta 0:00:01\r\u001b[K     |████████████████████▏           | 1.2 MB 8.0 MB/s eta 0:00:01\r\u001b[K     |████████████████████▍           | 1.2 MB 8.0 MB/s eta 0:00:01\r\u001b[K     |████████████████████▌           | 1.2 MB 8.0 MB/s eta 0:00:01\r\u001b[K     |████████████████████▊           | 1.2 MB 8.0 MB/s eta 0:00:01\r\u001b[K     |█████████████████████           | 1.2 MB 8.0 MB/s eta 0:00:01\r\u001b[K     |█████████████████████           | 1.2 MB 8.0 MB/s eta 0:00:01\r\u001b[K     |█████████████████████▎          | 1.3 MB 8.0 MB/s eta 0:00:01\r\u001b[K     |█████████████████████▍          | 1.3 MB 8.0 MB/s eta 0:00:01\r\u001b[K     |█████████████████████▋          | 1.3 MB 8.0 MB/s eta 0:00:01\r\u001b[K     |█████████████████████▊          | 1.3 MB 8.0 MB/s eta 0:00:01\r\u001b[K     |██████████████████████          | 1.3 MB 8.0 MB/s eta 0:00:01\r\u001b[K     |██████████████████████          | 1.3 MB 8.0 MB/s eta 0:00:01\r\u001b[K     |██████████████████████▎         | 1.3 MB 8.0 MB/s eta 0:00:01\r\u001b[K     |██████████████████████▍         | 1.3 MB 8.0 MB/s eta 0:00:01\r\u001b[K     |██████████████████████▋         | 1.3 MB 8.0 MB/s eta 0:00:01\r\u001b[K     |██████████████████████▉         | 1.4 MB 8.0 MB/s eta 0:00:01\r\u001b[K     |███████████████████████         | 1.4 MB 8.0 MB/s eta 0:00:01\r\u001b[K     |███████████████████████▏        | 1.4 MB 8.0 MB/s eta 0:00:01\r\u001b[K     |███████████████████████▎        | 1.4 MB 8.0 MB/s eta 0:00:01\r\u001b[K     |███████████████████████▌        | 1.4 MB 8.0 MB/s eta 0:00:01\r\u001b[K     |███████████████████████▋        | 1.4 MB 8.0 MB/s eta 0:00:01\r\u001b[K     |███████████████████████▉        | 1.4 MB 8.0 MB/s eta 0:00:01\r\u001b[K     |████████████████████████        | 1.4 MB 8.0 MB/s eta 0:00:01\r\u001b[K     |████████████████████████▏       | 1.4 MB 8.0 MB/s eta 0:00:01\r\u001b[K     |████████████████████████▍       | 1.4 MB 8.0 MB/s eta 0:00:01\r\u001b[K     |████████████████████████▌       | 1.5 MB 8.0 MB/s eta 0:00:01\r\u001b[K     |████████████████████████▊       | 1.5 MB 8.0 MB/s eta 0:00:01\r\u001b[K     |████████████████████████▉       | 1.5 MB 8.0 MB/s eta 0:00:01\r\u001b[K     |█████████████████████████       | 1.5 MB 8.0 MB/s eta 0:00:01\r\u001b[K     |█████████████████████████▏      | 1.5 MB 8.0 MB/s eta 0:00:01\r\u001b[K     |█████████████████████████▍      | 1.5 MB 8.0 MB/s eta 0:00:01\r\u001b[K     |█████████████████████████▌      | 1.5 MB 8.0 MB/s eta 0:00:01\r\u001b[K     |█████████████████████████▊      | 1.5 MB 8.0 MB/s eta 0:00:01\r\u001b[K     |██████████████████████████      | 1.5 MB 8.0 MB/s eta 0:00:01\r\u001b[K     |██████████████████████████      | 1.5 MB 8.0 MB/s eta 0:00:01\r\u001b[K     |██████████████████████████▎     | 1.6 MB 8.0 MB/s eta 0:00:01\r\u001b[K     |██████████████████████████▍     | 1.6 MB 8.0 MB/s eta 0:00:01\r\u001b[K     |██████████████████████████▋     | 1.6 MB 8.0 MB/s eta 0:00:01\r\u001b[K     |██████████████████████████▊     | 1.6 MB 8.0 MB/s eta 0:00:01\r\u001b[K     |███████████████████████████     | 1.6 MB 8.0 MB/s eta 0:00:01\r\u001b[K     |███████████████████████████     | 1.6 MB 8.0 MB/s eta 0:00:01\r\u001b[K     |███████████████████████████▎    | 1.6 MB 8.0 MB/s eta 0:00:01\r\u001b[K     |███████████████████████████▌    | 1.6 MB 8.0 MB/s eta 0:00:01\r\u001b[K     |███████████████████████████▋    | 1.6 MB 8.0 MB/s eta 0:00:01\r\u001b[K     |███████████████████████████▉    | 1.6 MB 8.0 MB/s eta 0:00:01\r\u001b[K     |████████████████████████████    | 1.7 MB 8.0 MB/s eta 0:00:01\r\u001b[K     |████████████████████████████▏   | 1.7 MB 8.0 MB/s eta 0:00:01\r\u001b[K     |████████████████████████████▎   | 1.7 MB 8.0 MB/s eta 0:00:01\r\u001b[K     |████████████████████████████▌   | 1.7 MB 8.0 MB/s eta 0:00:01\r\u001b[K     |████████████████████████████▋   | 1.7 MB 8.0 MB/s eta 0:00:01\r\u001b[K     |████████████████████████████▉   | 1.7 MB 8.0 MB/s eta 0:00:01\r\u001b[K     |█████████████████████████████   | 1.7 MB 8.0 MB/s eta 0:00:01\r\u001b[K     |█████████████████████████████▏  | 1.7 MB 8.0 MB/s eta 0:00:01\r\u001b[K     |█████████████████████████████▍  | 1.7 MB 8.0 MB/s eta 0:00:01\r\u001b[K     |█████████████████████████████▌  | 1.8 MB 8.0 MB/s eta 0:00:01\r\u001b[K     |█████████████████████████████▊  | 1.8 MB 8.0 MB/s eta 0:00:01\r\u001b[K     |█████████████████████████████▉  | 1.8 MB 8.0 MB/s eta 0:00:01\r\u001b[K     |██████████████████████████████  | 1.8 MB 8.0 MB/s eta 0:00:01\r\u001b[K     |██████████████████████████████▏ | 1.8 MB 8.0 MB/s eta 0:00:01\r\u001b[K     |██████████████████████████████▍ | 1.8 MB 8.0 MB/s eta 0:00:01\r\u001b[K     |██████████████████████████████▋ | 1.8 MB 8.0 MB/s eta 0:00:01\r\u001b[K     |██████████████████████████████▊ | 1.8 MB 8.0 MB/s eta 0:00:01\r\u001b[K     |███████████████████████████████ | 1.8 MB 8.0 MB/s eta 0:00:01\r\u001b[K     |███████████████████████████████ | 1.8 MB 8.0 MB/s eta 0:00:01\r\u001b[K     |███████████████████████████████▎| 1.9 MB 8.0 MB/s eta 0:00:01\r\u001b[K     |███████████████████████████████▍| 1.9 MB 8.0 MB/s eta 0:00:01\r\u001b[K     |███████████████████████████████▋| 1.9 MB 8.0 MB/s eta 0:00:01\r\u001b[K     |███████████████████████████████▊| 1.9 MB 8.0 MB/s eta 0:00:01\r\u001b[K     |████████████████████████████████| 1.9 MB 8.0 MB/s eta 0:00:01\r\u001b[K     |████████████████████████████████| 1.9 MB 8.0 MB/s \n",
            "\u001b[?25hRequirement already satisfied: torch==1.9.0 in /usr/local/lib/python3.7/dist-packages (from torchaudio) (1.9.0+cu102)\n",
            "Requirement already satisfied: typing-extensions in /usr/local/lib/python3.7/dist-packages (from torch==1.9.0->torchaudio) (3.7.4.3)\n",
            "Installing collected packages: torchaudio\n",
            "Successfully installed torchaudio-0.9.0\n"
          ],
          "name": "stdout"
        }
      ]
    },
    {
      "cell_type": "code",
      "metadata": {
        "id": "9iRd-Zj1p7f7"
      },
      "source": [
        "import torchaudio"
      ],
      "execution_count": null,
      "outputs": []
    },
    {
      "cell_type": "code",
      "metadata": {
        "id": "DkaJYigCxBAr",
        "cellView": "form"
      },
      "source": [
        "# @title Helper functions (run me)\n",
        "\n",
        "def set_device():\n",
        "  device = \"cuda\" if torch.cuda.is_available() else \"cpu\"\n",
        "  if device != \"cuda\":\n",
        "      print(\"WARNING: For this notebook to perform best, \"\n",
        "          \"if possible, in the menu under `Runtime` -> \"\n",
        "          \"`Change runtime type.`  select `GPU` \")\n",
        "  else:\n",
        "      print(\"GPU is enabled in this notebook.\")\n",
        "\n",
        "  return device\n",
        "\n",
        "\n",
        "#  Plotting function.\n",
        "\n",
        "def plot_loss_accuracy(train_loss, train_acc, validation_loss, validation_acc):\n",
        "  epochs = len(train_loss)\n",
        "  fig, (ax1, ax2) = plt.subplots(1, 2)\n",
        "  ax1.plot(list(range(epochs)), train_loss, label='Training Loss')\n",
        "  ax1.plot(list(range(epochs)), validation_loss, label='Validation Loss')\n",
        "  ax1.set_xlabel('Epochs')\n",
        "  ax1.set_ylabel('Loss')\n",
        "  ax1.set_title('Epoch vs Loss')\n",
        "  ax1.legend()\n",
        "\n",
        "  ax2.plot(list(range(epochs)), train_acc, label='Training Accuracy')\n",
        "  ax2.plot(list(range(epochs)), validation_acc, label='Validation Accuracy')\n",
        "  ax2.set_xlabel('Epochs')\n",
        "  ax2.set_ylabel('Accuracy')\n",
        "  ax2.set_title('Epoch vs Accuracy')\n",
        "  ax2.legend()\n",
        "  fig.set_size_inches(15.5, 5.5)\n",
        "  plt.show()"
      ],
      "execution_count": null,
      "outputs": []
    },
    {
      "cell_type": "code",
      "metadata": {
        "id": "m1AlZJ_UyTVu",
        "colab": {
          "base_uri": "https://localhost:8080/"
        },
        "outputId": "8cd0e85d-225c-4402-80b3-d6d44881532b"
      },
      "source": [
        "device = set_device()"
      ],
      "execution_count": null,
      "outputs": [
        {
          "output_type": "stream",
          "text": [
            "GPU is enabled in this notebook.\n"
          ],
          "name": "stdout"
        }
      ]
    },
    {
      "cell_type": "markdown",
      "metadata": {
        "id": "f2jv-cJsuq7l"
      },
      "source": [
        "## Download Dataset"
      ]
    },
    {
      "cell_type": "code",
      "metadata": {
        "id": "XXubASNuuv2R",
        "cellView": "form"
      },
      "source": [
        "#@title Default title text\n",
        "import requests\n",
        "\n",
        "fname = \"music.zip\"\n",
        "url = \"https://osf.io/drjhb/download\"\n",
        "\n",
        "if not os.path.isfile(fname):\n",
        "  try:\n",
        "    r = requests.get(url)\n",
        "  except requests.ConnectionError:\n",
        "    print(\"!!! Failed to download data !!!\")\n",
        "  else:\n",
        "    if r.status_code != requests.codes.ok:\n",
        "      print(\"!!! Failed to download data !!!\")\n",
        "    else:\n",
        "      with open(fname, \"wb\") as fid:\n",
        "        fid.write(r.content)"
      ],
      "execution_count": null,
      "outputs": []
    },
    {
      "cell_type": "code",
      "metadata": {
        "id": "CjVUmcijuyAs"
      },
      "source": [
        "from zipfile import ZipFile\n",
        "\n",
        "with ZipFile(fname, 'r') as zipObj:\n",
        "  # Extract all the contents of zip file in different directory\n",
        "  zipObj.extractall()"
      ],
      "execution_count": null,
      "outputs": []
    },
    {
      "cell_type": "markdown",
      "metadata": {
        "id": "qE4Xaq8YvIGY"
      },
      "source": [
        "## Make Mel Spectrograms with Librosa"
      ]
    },
    {
      "cell_type": "code",
      "metadata": {
        "id": "g5SPsfpLvLtX",
        "colab": {
          "base_uri": "https://localhost:8080/"
        },
        "outputId": "945936c7-c2b9-47b4-9e47-8f4d54a80df3"
      },
      "source": [
        "in_folder_path = \"/content/Data/genres_original/\"\n",
        "out_folder_path = \"/content/spectrograms_30s/\" #change this for your personal drive. \n",
        "\n",
        "if not os.path.exists(out_folder_path):\n",
        "    os.mkdir(out_folder_path)\n",
        "\n",
        "#get list of genre folders\n",
        "genre_folders = glob.glob(in_folder_path + \"*\")\n",
        "\n",
        "#initialize empty list of problem files:\n",
        "problem_files = []\n",
        "\n",
        "#loop over genre folders\n",
        "for genre_folder in genre_folders: \n",
        "  #get list of individual .wav files\n",
        "  wav_files = glob.glob(genre_folder + \"/*.wav\")\n",
        "\n",
        "  #get output folder path\n",
        "  genre_name = genre_folder.split('/')[-1]\n",
        "  print(genre_name)\n",
        "  out_folder = out_folder_path + genre_name + \"/\"\n",
        "  #make output folder if it doesn't exist\n",
        "  if not os.path.exists(out_folder):\n",
        "    os.mkdir(out_folder)\n",
        "\n",
        "  #loop over list of wav files\n",
        "  for wav_file in wav_files:\n",
        "    #extract file name\n",
        "    file_name = wav_file.split('/')[-1]\n",
        "    file_name = file_name.strip(\".wav\")\n",
        "    \n",
        "    #load wav file\n",
        "    try: \n",
        "      y, sr = librosa.load(wav_file)\n",
        "\n",
        "      #normalize audio\n",
        "      y = (y - y.mean())/ y.std()\n",
        "\n",
        "      #calculate mel spectrogram\n",
        "      spectrogram = librosa.feature.melspectrogram(y, sr = sr)\n",
        "      spectrogram_db = librosa.amplitude_to_db(spectrogram, ref = np.max)\n",
        "\n",
        "      #global normalization of the spectrogram (not frequency band normalization...)\n",
        "      spectrogram_norm = (spectrogram_db - spectrogram_db.mean()) / spectrogram_db.std()\n",
        "\n",
        "      #save spectrogram\n",
        "      np.save(out_folder + file_name, spectrogram_norm)\n",
        "\n",
        "    except:\n",
        "      print(\"Something is wrong with \" + file_name + \"so it has been skipped\")\n",
        "      problem_files = problem_files.append(wav_file)"
      ],
      "execution_count": null,
      "outputs": [
        {
          "output_type": "stream",
          "text": [
            "reggae\n",
            "disco\n",
            "country\n",
            "pop\n",
            "blues\n",
            "rock\n",
            "hiphop\n",
            "metal\n",
            "jazz\n"
          ],
          "name": "stdout"
        },
        {
          "output_type": "stream",
          "text": [
            "/usr/local/lib/python3.7/dist-packages/librosa/core/audio.py:165: UserWarning: PySoundFile failed. Trying audioread instead.\n",
            "  warnings.warn(\"PySoundFile failed. Trying audioread instead.\")\n"
          ],
          "name": "stderr"
        },
        {
          "output_type": "stream",
          "text": [
            "Something is wrong with jazz.00054so it has been skipped\n",
            "classical\n"
          ],
          "name": "stdout"
        }
      ]
    },
    {
      "cell_type": "markdown",
      "metadata": {
        "id": "ZNq0YxYpyeZM"
      },
      "source": [
        "## Split training and test data"
      ]
    },
    {
      "cell_type": "code",
      "metadata": {
        "id": "vCeMHisnyV3Y"
      },
      "source": [
        "## EDIT HERE TO CHANGE SIZE OF TEST AND VAL DATASETS\n",
        "test_prop = 0.15\n",
        "val_prop = 0.15\n",
        "\n",
        "train_prop = 1 - test_prop - val_prop\n",
        "\n",
        "# Create folder with training, testing and validation data.\n",
        "\n",
        "spectrograms_dir = \"/content/spectrograms_30s/\"\n",
        "folder_names = ['/content/train/', \n",
        "                '/content/test/', \n",
        "                '/content/val/']\n",
        "train_dir = folder_names[0]\n",
        "test_dir = folder_names[1]\n",
        "val_dir = folder_names[2]\n",
        "\n",
        "for f in folder_names:\n",
        "  if os.path.exists(f):\n",
        "    shutil.rmtree(f)\n",
        "    os.mkdir(f)\n",
        "  else:\n",
        "    os.mkdir(f)\n",
        "\n",
        "# Loop over all genres.\n",
        "\n",
        "genres = list(os.listdir(spectrograms_dir))\n",
        "for g in genres:\n",
        "  # find all images & split in train, test, and validation\n",
        "  src_file_paths= []\n",
        "  for im in glob.glob(os.path.join(spectrograms_dir, f'{g}',\"*.npy\"), recursive=True):\n",
        "    src_file_paths.append(im)\n",
        "  random.shuffle(src_file_paths)\n",
        "\n",
        "  test_idx = int(len(src_file_paths) * test_prop)\n",
        "  val_idx = test_idx + int(len(src_file_paths) * val_prop)\n",
        "\n",
        "  test_files = src_file_paths[0:test_idx]\n",
        "  val_files = src_file_paths[test_idx:val_idx]\n",
        "  train_files = src_file_paths[val_idx:]\n",
        "\n",
        "  #  make destination folders for train and test images\n",
        "  for f in folder_names:\n",
        "    if not os.path.exists(os.path.join(f + f\"{g}\")):\n",
        "      os.mkdir(os.path.join(f + f\"{g}\"))\n",
        "\n",
        "  # copy training and testing images over\n",
        "  for f in train_files:\n",
        "    shutil.copy(f, os.path.join(os.path.join(train_dir + f\"{g}\") + '/',os.path.split(f)[1]))\n",
        "  for f in test_files:\n",
        "    shutil.copy(f, os.path.join(os.path.join(test_dir + f\"{g}\") + '/',os.path.split(f)[1]))\n",
        "  for f in val_files:\n",
        "    shutil.copy(f, os.path.join(os.path.join(val_dir + f\"{g}\") + '/',os.path.split(f)[1]))"
      ],
      "execution_count": null,
      "outputs": []
    },
    {
      "cell_type": "markdown",
      "metadata": {
        "id": "OZ5eGK1K1wns"
      },
      "source": [
        "## Apply sliding window to data"
      ]
    },
    {
      "cell_type": "code",
      "metadata": {
        "id": "SEF7BKrsAfPC"
      },
      "source": [
        "def apply_sliding_window(in_dir, out_dir, window_length = 3, hop_length = 1, \n",
        "                         save_as_tensor = False):\n",
        "  #IMPORTANT NOTE - this function assumes that the spectrograms were made with \n",
        "    #default librosa nfft_size, hop_length, etc. \n",
        "\n",
        "    #window and hop length units are in seconds. \n",
        "\n",
        "  window_size = librosa.time_to_frames(window_length)\n",
        "  hop_size = librosa.time_to_frames(hop_length)\n",
        "  #get list of genre folders\n",
        "  genre_folders = glob.glob(in_dir + \"*\")\n",
        "\n",
        "  #make out_dir if it doesn't exist\n",
        "  if not os.path.exists(out_dir):\n",
        "    os.mkdir(out_dir)\n",
        "\n",
        "  #loop over genre folders\n",
        "  for genre_folder in genre_folders:\n",
        "\n",
        "    #get list of individual spectrogram files\n",
        "    spec_files = glob.glob(genre_folder + \"/*.npy\")\n",
        "\n",
        "    #get output folder path\n",
        "    genre_name = genre_folder.split('/')[-1]\n",
        "    out_folder = out_dir + genre_name + \"/\"\n",
        "    print(out_folder)\n",
        "    #make output folder if it doesn't exist\n",
        "\n",
        "    if not os.path.exists(out_folder):\n",
        "      os.mkdir(out_folder)\n",
        "\n",
        "    #loop over spectrogram files\n",
        "    for spec_file in spec_files:\n",
        "      #extract file name\n",
        "      file_name = spec_file.split('/')[-1]\n",
        "      file_name = file_name.strip(\".npy\")\n",
        "\n",
        "      #load spectrogram\n",
        "      spec = np.load(spec_file)\n",
        "      \n",
        "      #apply sliding frame to spectrogram\n",
        "      all_frames = librosa.util.frame(spec, window_size, hop_size)\n",
        "      all_frames = np.moveaxis(all_frames, 2, 0)\n",
        "\n",
        "      #loop over individual frames\n",
        "      for i, frame in enumerate(all_frames):\n",
        "        \n",
        "        #specify out file name\n",
        "        full_out_path = out_folder + file_name + \"_\" + str(i)\n",
        "        \n",
        "        if save_as_tensor: \n",
        "          #convert np array to tensor\n",
        "          torch_frame = torch.from_numpy(frame)\n",
        "          #save torch of spectrogram frame\n",
        "          torch.save(torch_frame, full_out_path + \".pt\")  \n",
        "\n",
        "        else: \n",
        "          #save spectrogram frame\n",
        "          np.save(full_out_path, frame)"
      ],
      "execution_count": null,
      "outputs": []
    },
    {
      "cell_type": "code",
      "metadata": {
        "id": "oObuS8PsG6sy",
        "colab": {
          "base_uri": "https://localhost:8080/"
        },
        "outputId": "d3a067f3-52d2-426b-b155-2ba8535f36a5"
      },
      "source": [
        "# Cut Data \n",
        "full_path = '/content/'\n",
        "\n",
        "apply_sliding_window(full_path + 'test/*', full_path + 'test_cropped/', save_as_tensor=True)\n",
        "apply_sliding_window(full_path + 'train/*', full_path + 'train_cropped/', save_as_tensor=True)\n",
        "apply_sliding_window(full_path + 'val/*', full_path + 'val_cropped/', save_as_tensor = True)"
      ],
      "execution_count": null,
      "outputs": [
        {
          "output_type": "stream",
          "text": [
            "/content/test_cropped/reggae/\n",
            "/content/test_cropped/disco/\n"
          ],
          "name": "stdout"
        },
        {
          "output_type": "stream",
          "text": [
            "/usr/local/lib/python3.7/dist-packages/librosa/util/utils.py:200: UserWarning: librosa.util.frame called with axis=-1 on a non-contiguous input. This will result in a copy.\n",
            "  \"on a non-contiguous input. This will result in a copy.\".format(axis)\n"
          ],
          "name": "stderr"
        },
        {
          "output_type": "stream",
          "text": [
            "/content/test_cropped/country/\n",
            "/content/test_cropped/pop/\n",
            "/content/test_cropped/blues/\n",
            "/content/test_cropped/rock/\n",
            "/content/test_cropped/hiphop/\n",
            "/content/test_cropped/metal/\n",
            "/content/test_cropped/jazz/\n",
            "/content/test_cropped/classical/\n",
            "/content/train_cropped/reggae/\n",
            "/content/train_cropped/disco/\n",
            "/content/train_cropped/country/\n",
            "/content/train_cropped/pop/\n",
            "/content/train_cropped/blues/\n",
            "/content/train_cropped/rock/\n",
            "/content/train_cropped/hiphop/\n",
            "/content/train_cropped/metal/\n",
            "/content/train_cropped/jazz/\n",
            "/content/train_cropped/classical/\n",
            "/content/val_cropped/reggae/\n",
            "/content/val_cropped/disco/\n",
            "/content/val_cropped/country/\n",
            "/content/val_cropped/pop/\n",
            "/content/val_cropped/blues/\n",
            "/content/val_cropped/rock/\n",
            "/content/val_cropped/hiphop/\n",
            "/content/val_cropped/metal/\n",
            "/content/val_cropped/jazz/\n",
            "/content/val_cropped/classical/\n"
          ],
          "name": "stdout"
        }
      ]
    },
    {
      "cell_type": "markdown",
      "metadata": {
        "id": "VvnqIKVNmTrq"
      },
      "source": [
        "## Dataloader - torch version"
      ]
    },
    {
      "cell_type": "code",
      "metadata": {
        "id": "N7DNm0yFmXNv"
      },
      "source": [
        "# Data loading.\n",
        "train_dir = \"/content/train_cropped/\"\n",
        "val_dir =  \"/content/val_cropped/\"\n",
        "\n",
        "train_dataset = datasets.DatasetFolder(\n",
        "    train_dir, \n",
        "    extensions = (\".pt\"), \n",
        "    loader = torch.load )\n",
        "\n",
        "train_loader = torch.utils.data.DataLoader(\n",
        "    train_dataset, batch_size=100, shuffle=True, num_workers=0, drop_last = True)\n",
        "\n",
        "val_dataset = datasets.DatasetFolder(\n",
        "    val_dir, \n",
        "    extensions = (\".pt\"), \n",
        "    loader = torch.load )\n",
        "\n",
        "val_loader = torch.utils.data.DataLoader(\n",
        "    val_dataset, batch_size=100, shuffle=True, num_workers=0, drop_last = True)"
      ],
      "execution_count": null,
      "outputs": []
    },
    {
      "cell_type": "code",
      "metadata": {
        "id": "Lmq8RSpJzPn4"
      },
      "source": [
        "# Data loading.\n",
        "train_dir = \"/content/train_cropped/\"\n",
        "val_dir =  \"/content/val_cropped/\"\n",
        "\n",
        "train_dataset = datasets.DatasetFolder(\n",
        "    train_dir, \n",
        "    extensions = (\".pt\"), \n",
        "    loader = torch.load, \n",
        "    transform = transforms.Compose([torchaudio.transforms.TimeMasking(time_mask_param= 40, iid_masks=True), \n",
        "                                    torchaudio.transforms.FrequencyMasking(freq_mask_param=40, iid_masks=True), \n",
        "                                    torchaudio.transforms.TimeMasking(time_mask_param= 30, iid_masks=True), \n",
        "                                    torchaudio.transforms.FrequencyMasking(freq_mask_param = 30, iid_masks=True), \n",
        "                                    torchaudio.transforms.TimeMasking(time_mask_param= 20, iid_masks=True), \n",
        "                                    torchaudio.transforms.FrequencyMasking(freq_mask_param = 20, iid_masks=True)]) )\n",
        "\n",
        "train_loader = torch.utils.data.DataLoader(\n",
        "    train_dataset, batch_size=100, shuffle=True, num_workers=0, drop_last = True)\n",
        "\n",
        "val_dataset = datasets.DatasetFolder(\n",
        "    val_dir, \n",
        "    extensions = (\".pt\"), \n",
        "    loader = torch.load )\n",
        "\n",
        "val_loader = torch.utils.data.DataLoader(\n",
        "    val_dataset, batch_size=100, shuffle=True, num_workers=0, drop_last = True)"
      ],
      "execution_count": null,
      "outputs": []
    },
    {
      "cell_type": "markdown",
      "metadata": {
        "id": "5sQgGDQRnSzP"
      },
      "source": [
        "Looks good! And we don't need the squeeze anymore. "
      ]
    },
    {
      "cell_type": "markdown",
      "metadata": {
        "id": "1AgdXD7RSorg"
      },
      "source": [
        "## Train Default Network"
      ]
    },
    {
      "cell_type": "code",
      "metadata": {
        "id": "LD-455iX5AxJ"
      },
      "source": [
        "# Make a CNN & train it to predict genres.\n",
        "\n",
        "class music_net(nn.Module):\n",
        "  def __init__(self):\n",
        "    \"\"\"Intitalize neural net layers\"\"\"\n",
        "    super(music_net, self).__init__()\n",
        "    self.conv1 = nn.Conv2d(in_channels=1, out_channels=64, kernel_size=3, stride=1, padding=0) # changed in channels to 1 \n",
        "    self.conv2 = nn.Conv2d(in_channels=64, out_channels=128, kernel_size=3, stride=1, padding=0)\n",
        "    self.conv3 = nn.Conv2d(in_channels=128, out_channels=512, kernel_size=3, stride=1, padding=0)\n",
        "    self.conv4 = nn.Conv2d(in_channels=512, out_channels=256, kernel_size=3, stride=1, padding=0)\n",
        "    self.conv5 = nn.Conv2d(in_channels=256, out_channels=128, kernel_size=3, stride=1, padding=0)\n",
        "    self.fc1 = nn.Linear(in_features=512, out_features=10) \n",
        "    # self.fc2 = nn.Linear(in_features=64, out_features=10)\n",
        "\n",
        "    self.batchnorm1 = nn.BatchNorm2d(num_features=64)\n",
        "    self.batchnorm2 = nn.BatchNorm2d(num_features=128)\n",
        "    self.batchnorm3 = nn.BatchNorm2d(num_features=512)\n",
        "    self.batchnorm4 = nn.BatchNorm2d(num_features=256)\n",
        "    self.batchnorm5 = nn.BatchNorm2d(num_features=128)\n",
        "\n",
        "    self.dropout = nn.Dropout(p=0.5, inplace=False)\n",
        "\n",
        "\n",
        "  def forward(self, x):\n",
        "    # Conv layer 1.\n",
        "    x = self.conv1(x)\n",
        "    x = self.batchnorm1(x)\n",
        "    x = F.relu(x)\n",
        "    x = F.max_pool2d(x, kernel_size=2)\n",
        "\n",
        "    # Conv layer 2.\n",
        "    x = self.conv2(x)\n",
        "    x = self.batchnorm2(x)\n",
        "    x = F.relu(x)\n",
        "    x = F.max_pool2d(x, kernel_size=2)\n",
        "\n",
        "    # Conv layer 3.\n",
        "    x = self.dropout(x)\n",
        "    x = self.conv3(x)\n",
        "    x = self.batchnorm3(x)\n",
        "    x = F.relu(x)\n",
        "    x = F.max_pool2d(x, kernel_size=2)\n",
        "\n",
        "    # Conv layer 4.\n",
        "    x = self.dropout(x)\n",
        "    x = self.conv4(x)\n",
        "    x = self.batchnorm4(x)\n",
        "    x = F.relu(x)\n",
        "    x = F.max_pool2d(x, kernel_size=2)\n",
        "\n",
        "    # # Conv layer 5.\n",
        "    x = self.conv5(x)\n",
        "    x = self.batchnorm5(x)\n",
        "    x = F.relu(x)\n",
        "    x = F.max_pool2d(x, kernel_size=2)\n",
        "    #print(x.shape)################################################################\n",
        "\n",
        "    # Fully connected layer 1.\n",
        "    x = torch.flatten(x, 1)\n",
        "    x = self.dropout(x)\n",
        "    x = self.fc1(x)\n",
        "    x = F.softmax(x)\n",
        "\n",
        "    # # Fully connected layer 2.\n",
        "    # x = self.dropout(x)\n",
        "    # x = self.fc2(x)\n",
        "    # x = F.softmax(x)\n",
        "\n",
        "    return x\n",
        "\n",
        "\n",
        "def train(model, device, train_loader, validation_loader, epochs):\n",
        "  criterion =  nn.CrossEntropyLoss()\n",
        "  optimizer = torch.optim.Adam(model.parameters(), lr=0.0025)\n",
        "  train_loss, validation_loss = [], []\n",
        "  train_acc, validation_acc = [], []\n",
        "  with tqdm(range(epochs), unit='epoch') as tepochs:\n",
        "    tepochs.set_description('Training')\n",
        "    for epoch in tepochs:\n",
        "      model.train()\n",
        "      # keep track of the running loss\n",
        "      running_loss = 0.\n",
        "      correct, total = 0, 0\n",
        "\n",
        "      for data, target in train_loader:\n",
        "        # getting the training set\n",
        "        data, target = data.to(device), target.to(device)\n",
        "        \n",
        "        #squeeze out extra dimension in data\n",
        "        #data = data.squeeze(dim = 0) ########################################### this is new. \n",
        "\n",
        "        #using torch dataloader, you have to unsqueeze the data, I think...\n",
        "        data = data.reshape((100, 1, 128, 129))#######  this is hardcoded for now and should be fixed somewhere else. \n",
        "        #100 is the batch size, 1 is for a single channel, and 128 by 129 is the size of the spectrogram image in pixels. \n",
        "\n",
        "        # Get the model output (call the model with the data from this batch)\n",
        "        output = model(data)\n",
        "        # Zero the gradients out)\n",
        "        optimizer.zero_grad()\n",
        "        # Get the Loss\n",
        "        loss  = criterion(output, target)\n",
        "        # Calculate the gradients\n",
        "        loss.backward()\n",
        "        # Update the weights (using the training step of the optimizer)\n",
        "        optimizer.step()\n",
        "\n",
        "        tepochs.set_postfix(loss=loss.item())\n",
        "        running_loss += loss  # add the loss for this batch\n",
        "\n",
        "        # get accuracy\n",
        "        _, predicted = torch.max(output, 1)\n",
        "        total += target.size(0)\n",
        "        correct += (predicted == target).sum().item()\n",
        "\n",
        "      # append the loss for this epoch\n",
        "      train_loss.append(running_loss/len(train_loader))\n",
        "      train_acc.append(correct/total)\n",
        "\n",
        "      # evaluate on validation data\n",
        "      model.eval()\n",
        "      running_loss = 0.\n",
        "      correct, total = 0, 0\n",
        "\n",
        "      for data, target in validation_loader:\n",
        "        # getting the validation set\n",
        "        #using torch dataloader, you have to unsqueeze the data, I think...\n",
        "        data = data.reshape((100, 1, 128, 129))#######  this is hardcoded for now and should be fixed somewhere else. \n",
        "        #100 is the batch size, 1 is for a single channel, and 128 by 129 is the size of the spectrogram image in pixels. \n",
        "\n",
        "        data, target = data.to(device), target.to(device)\n",
        "        optimizer.zero_grad()\n",
        "        output = model(data)\n",
        "        loss = criterion(output, target)\n",
        "        tepochs.set_postfix(loss=loss.item())\n",
        "        running_loss += loss.item()\n",
        "        # get accuracy\n",
        "        _, predicted = torch.max(output, 1)\n",
        "        total += target.size(0)\n",
        "        correct += (predicted == target).sum().item()\n",
        "\n",
        "      validation_loss.append(running_loss/len(validation_loader))\n",
        "      validation_acc.append(correct/total)\n",
        "\n",
        "  return train_loss, train_acc, validation_loss, validation_acc"
      ],
      "execution_count": null,
      "outputs": []
    },
    {
      "cell_type": "code",
      "metadata": {
        "id": "i-_PdqDw3cRD"
      },
      "source": [
        "# this is the base code for a variational auto encoder for the MNIst data set\n",
        "# see what modifications will be needed to be done\n",
        "K_VAE = 2\n",
        "\n",
        "\n",
        "class ConvVAE(nn.Module):\n",
        "  def __init__(self, K, num_filters=32, filter_size=5):\n",
        "    super(ConvVAE, self).__init__()\n",
        "\n",
        "    # With padding=0, the number of pixels cut off from each image dimension\n",
        "    # is filter_size // 2. Double it to get the amount of pixels lost in\n",
        "    # width and height per Conv2D layer, or added back in per\n",
        "    # ConvTranspose2D layer.\n",
        "    filter_reduction = 2 * (filter_size // 2)\n",
        "\n",
        "    # After passing input through two Conv2d layers, the shape will be\n",
        "    # 'shape_after_conv'. This is also the shape that will go into the first\n",
        "    # deconvolution layer in the decoder\n",
        "    self.shape_after_conv = (num_filters,\n",
        "                              data_shape[1]-2*filter_reduction,\n",
        "                              data_shape[2]-2*filter_reduction)\n",
        "    flat_size_after_conv = self.shape_after_conv[0] \\\n",
        "        * self.shape_after_conv[1] \\\n",
        "        * self.shape_after_conv[2]\n",
        "\n",
        "    # Define the recognition model (encoder or q) part\n",
        "    self.q_bias = BiasLayer(data_shape)\n",
        "    self.q_conv_1 = nn.Conv2d(data_shape[0], num_filters, 5)\n",
        "    self.q_conv_2 = nn.Conv2d(num_filters, num_filters, 5)\n",
        "    self.q_flatten = nn.Flatten()\n",
        "    self.q_fc_phi = nn.Linear(flat_size_after_conv, K+1)\n",
        "\n",
        "    # Define the generative model (decoder or p) part\n",
        "    self.p_fc_upsample = nn.Linear(K, flat_size_after_conv)\n",
        "    self.p_unflatten = nn.Unflatten(-1, self.shape_after_conv)\n",
        "    self.p_deconv_1 = nn.ConvTranspose2d(num_filters, num_filters, 5)\n",
        "    self.p_deconv_2 = nn.ConvTranspose2d(num_filters, data_shape[0], 5)\n",
        "    self.p_bias = BiasLayer(data_shape)\n",
        "\n",
        "    # Define a special extra parameter to learn scalar sig_x for all pixels\n",
        "    self.log_sig_x = nn.Parameter(torch.zeros(()))\n",
        "\n",
        "  def infer(self, x):\n",
        "    \"\"\"Map (batch of) x to (batch of) phi which can then be passed to\n",
        "    rsample to get z\n",
        "    \"\"\"\n",
        "    s = self.q_bias(x)\n",
        "    s = F.relu(self.q_conv_1(s))\n",
        "    s = F.relu(self.q_conv_2(s))\n",
        "    flat_s = s.view(s.size()[0], -1)\n",
        "    phi = self.q_fc_phi(flat_s)\n",
        "    return phi\n",
        "\n",
        "  def generate(self, zs):\n",
        "    \"\"\"Map [b,n,k] sized samples of z to [b,n,p] sized images\n",
        "    \"\"\"\n",
        "    # Note that for the purposes of passing through the generator, we need\n",
        "    # to reshape zs to be size [b*n,k]\n",
        "    b, n, k = zs.size()\n",
        "    s = zs.view(b*n, -1)\n",
        "    s = F.relu(self.p_fc_upsample(s)).view((b*n,) + self.shape_after_conv)\n",
        "    s = F.relu(self.p_deconv_1(s))\n",
        "    s = self.p_deconv_2(s)\n",
        "    s = self.p_bias(s)\n",
        "    mu_xs = s.view(b, n, -1)\n",
        "    return mu_xs\n",
        "\n",
        "  def decode(self, zs):\n",
        "    # Included for compatability with conv-AE code\n",
        "    return self.generate(zs.unsqueeze(0))\n",
        "\n",
        "  def forward(self, x):\n",
        "    # VAE.forward() is not used for training, but we'll treat it like a\n",
        "    # classic autoencoder by taking a single sample of z ~ q\n",
        "    phi = self.infer(x)\n",
        "    zs = rsample(phi, 1)\n",
        "    return self.generate(zs).view(x.size())\n",
        "\n",
        "  def elbo(self, x, n=1):\n",
        "    \"\"\"Run input end to end through the VAE and compute the ELBO using n\n",
        "    samples of z\n",
        "    \"\"\"\n",
        "    phi = self.infer(x)\n",
        "    zs = rsample(phi, n)\n",
        "    mu_xs = self.generate(zs)\n",
        "    return log_p_x(x, mu_xs, self.log_sig_x.exp()) - kl_q_p(zs, phi)\n",
        "\n",
        "\n",
        "def expected_z(phi):\n",
        "  return phi[:, :-1]\n",
        "\n",
        "\n",
        "def rsample(phi, n_samples):\n",
        "  \"\"\"Sample z ~ q(z;phi)\n",
        "  Ouput z is size [b,n_samples,K] given phi with shape [b,K+1]. The first K\n",
        "  entries of each row of phi are the mean of q, and phi[:,-1] is the log\n",
        "  standard deviation\n",
        "  \"\"\"\n",
        "  b, kplus1 = phi.size()\n",
        "  k = kplus1-1\n",
        "  mu, sig = phi[:, :-1], phi[:,-1].exp()\n",
        "  eps = torch.randn(b, n_samples, k, device=phi.device)\n",
        "  return eps*sig.view(b,1,1) + mu.view(b,1,k)\n",
        "\n",
        "\n",
        "def train_vae(vae, dataset, epochs=10, n_samples=1000):\n",
        "  opt = torch.optim.Adam(vae.parameters(), lr=1e-3, weight_decay=0)\n",
        "  elbo_vals = []\n",
        "  vae.to(DEVICE)\n",
        "  vae.train()\n",
        "  loader = DataLoader(dataset, batch_size=250, shuffle=True, pin_memory=True)\n",
        "  for epoch in trange(epochs, desc='Epochs'):\n",
        "    for im, _ in tqdm(loader, total=len(dataset) // 250, desc='Batches', leave=False):\n",
        "      im = im.to(DEVICE)\n",
        "      opt.zero_grad()\n",
        "      loss = -vae.elbo(im)\n",
        "      loss.backward()\n",
        "      opt.step()\n",
        "\n",
        "      elbo_vals.append(-loss.item())\n",
        "  vae.to('cpu')\n",
        "  vae.eval()\n",
        "  return elbo_vals\n",
        "\n",
        "\n",
        "# trained_conv_VarAE = ConvVAE(K=K_VAE)\n",
        "# elbo_vals = train_vae(trained_conv_VarAE, train_set, n_samples=10000)\n",
        "\n",
        "# print(f'Learned sigma_x is {torch.exp(trained_conv_VarAE.log_sig_x)}')\n",
        "\n",
        "# Uncomment below if you'd like to see the the training\n",
        "# curve of the evaluated ELBO loss function\n",
        "# ELBO is the loss function used to train VAEs (see lecture!)\n",
        "# plt.figure()\n",
        "# plt.plot(elbo_vals)\n",
        "# plt.xlabel('Batch #')\n",
        "# plt.ylabel('ELBO')\n",
        "# plt.show()"
      ],
      "execution_count": null,
      "outputs": []
    },
    {
      "cell_type": "code",
      "metadata": {
        "colab": {
          "base_uri": "https://localhost:8080/",
          "height": 334
        },
        "id": "0h96moK463Y8",
        "outputId": "5cdb693b-80ec-4b01-f2ef-a408ee2b21d0"
      },
      "source": [
        "# train\n",
        "net = ConvVAE(K_VAE).to(device)\n",
        "elbo_vals = train_vae(net, train_loader, ephocs = 5, n_samples = 1000)"
      ],
      "execution_count": null,
      "outputs": [
        {
          "output_type": "error",
          "ename": "NameError",
          "evalue": "ignored",
          "traceback": [
            "\u001b[0;31m---------------------------------------------------------------------------\u001b[0m",
            "\u001b[0;31mNameError\u001b[0m                                 Traceback (most recent call last)",
            "\u001b[0;32m<ipython-input-17-78950371c6a2>\u001b[0m in \u001b[0;36m<module>\u001b[0;34m()\u001b[0m\n\u001b[1;32m      1\u001b[0m \u001b[0;31m# trian\u001b[0m\u001b[0;34m\u001b[0m\u001b[0;34m\u001b[0m\u001b[0;34m\u001b[0m\u001b[0m\n\u001b[0;32m----> 2\u001b[0;31m \u001b[0mnet\u001b[0m \u001b[0;34m=\u001b[0m \u001b[0mConvVAE\u001b[0m\u001b[0;34m(\u001b[0m\u001b[0mK_VAE\u001b[0m\u001b[0;34m)\u001b[0m\u001b[0;34m.\u001b[0m\u001b[0mto\u001b[0m\u001b[0;34m(\u001b[0m\u001b[0mdevice\u001b[0m\u001b[0;34m)\u001b[0m\u001b[0;34m\u001b[0m\u001b[0;34m\u001b[0m\u001b[0m\n\u001b[0m\u001b[1;32m      3\u001b[0m \u001b[0melbo_vals\u001b[0m \u001b[0;34m=\u001b[0m \u001b[0mtrain_vae\u001b[0m\u001b[0;34m(\u001b[0m\u001b[0mnet\u001b[0m\u001b[0;34m,\u001b[0m \u001b[0mtrain_loader\u001b[0m\u001b[0;34m,\u001b[0m \u001b[0mephocs\u001b[0m \u001b[0;34m=\u001b[0m \u001b[0;36m5\u001b[0m\u001b[0;34m,\u001b[0m \u001b[0mn_samples\u001b[0m \u001b[0;34m=\u001b[0m \u001b[0;36m1000\u001b[0m\u001b[0;34m)\u001b[0m\u001b[0;34m\u001b[0m\u001b[0;34m\u001b[0m\u001b[0m\n",
            "\u001b[0;32m<ipython-input-15-78ac59977357>\u001b[0m in \u001b[0;36m__init__\u001b[0;34m(self, K, num_filters, filter_size)\u001b[0m\n\u001b[1;32m     18\u001b[0m     \u001b[0;31m# deconvolution layer in the decoder\u001b[0m\u001b[0;34m\u001b[0m\u001b[0;34m\u001b[0m\u001b[0;34m\u001b[0m\u001b[0m\n\u001b[1;32m     19\u001b[0m     self.shape_after_conv = (num_filters,\n\u001b[0;32m---> 20\u001b[0;31m                               \u001b[0mdata_shape\u001b[0m\u001b[0;34m[\u001b[0m\u001b[0;36m1\u001b[0m\u001b[0;34m]\u001b[0m\u001b[0;34m-\u001b[0m\u001b[0;36m2\u001b[0m\u001b[0;34m*\u001b[0m\u001b[0mfilter_reduction\u001b[0m\u001b[0;34m,\u001b[0m\u001b[0;34m\u001b[0m\u001b[0;34m\u001b[0m\u001b[0m\n\u001b[0m\u001b[1;32m     21\u001b[0m                               data_shape[2]-2*filter_reduction)\n\u001b[1;32m     22\u001b[0m     \u001b[0mflat_size_after_conv\u001b[0m \u001b[0;34m=\u001b[0m \u001b[0mself\u001b[0m\u001b[0;34m.\u001b[0m\u001b[0mshape_after_conv\u001b[0m\u001b[0;34m[\u001b[0m\u001b[0;36m0\u001b[0m\u001b[0;34m]\u001b[0m         \u001b[0;34m*\u001b[0m \u001b[0mself\u001b[0m\u001b[0;34m.\u001b[0m\u001b[0mshape_after_conv\u001b[0m\u001b[0;34m[\u001b[0m\u001b[0;36m1\u001b[0m\u001b[0;34m]\u001b[0m         \u001b[0;34m*\u001b[0m \u001b[0mself\u001b[0m\u001b[0;34m.\u001b[0m\u001b[0mshape_after_conv\u001b[0m\u001b[0;34m[\u001b[0m\u001b[0;36m2\u001b[0m\u001b[0;34m]\u001b[0m\u001b[0;34m\u001b[0m\u001b[0;34m\u001b[0m\u001b[0m\n",
            "\u001b[0;31mNameError\u001b[0m: name 'data_shape' is not defined"
          ]
        }
      ]
    },
    {
      "cell_type": "code",
      "metadata": {
        "id": "QxljFrGg6hEC"
      },
      "source": [
        "# Run training.\n",
        "net = music_net().to(device)\n",
        "train_loss, train_acc, validation_loss, validation_acc = train(net, device, train_loader, val_loader, 30)\n",
        "plot_loss_accuracy(train_loss, train_acc, validation_loss, validation_acc)"
      ],
      "execution_count": null,
      "outputs": []
    },
    {
      "cell_type": "markdown",
      "metadata": {
        "id": "SwFcIYEy57_k"
      },
      "source": [
        "# Run training.\n",
        "net = music_net().to(device)\n",
        "train_loss, train_acc, validation_loss, validation_acc = train(net, device, train_loader, val_loader, 30)\n",
        "plot_loss_accuracy(train_loss, train_acc, validation_loss, validation_acc)"
      ]
    },
    {
      "cell_type": "markdown",
      "metadata": {
        "id": "Zeaz6LQg-Sde"
      },
      "source": [
        "Very interesting! We reach high training accuracy in much fewer epochs here than we did with the original png dataset. I should note that I am also using a larger batch size here than there. Could that be having an effect? \n",
        "\n",
        "We reach that high accuracy on the training set without any of the 'bumps' that we saw when training on the png dataset for longer. Maybe that's a sign that I should stop focusing so much on the RSA and instead focus on reducing the overfitting with this model. \n",
        "\n",
        "Some ideas on reducing the overfitting: \n",
        "- Data augmentation\n",
        "- More dropout\n",
        "- L1 / L2 reglularization (doesn't seem to be included at the moment). \n",
        "- Reduce the complexity of the model (fewer layers, narrower layers). \n",
        "- early stopping (although based on the plots, that doesn't seem like it would make a difference.) \n",
        "\n",
        "The validation accuracy is also very noisy. I already made the validation set larger than before (15% instead of 10%). Is there anything else we can do about that? Is it something we should be worried about? "
      ]
    },
    {
      "cell_type": "markdown",
      "metadata": {
        "id": "D6u-6c5nzhHJ"
      },
      "source": [
        "# Experimenting with Regularization"
      ]
    },
    {
      "cell_type": "markdown",
      "metadata": {
        "id": "XviWncL0zkGM"
      },
      "source": [
        "Robert suggested that a good place to start would be simplifying the model. Strip it down to as few layers as possible until it can barely improve on the training set, then add complexity back in, looking for a sweetspot with good fit without massive overfitting. \n"
      ]
    },
    {
      "cell_type": "markdown",
      "metadata": {
        "id": "j9ozJ2dozsvI"
      },
      "source": [
        "## Reducing number of layers"
      ]
    },
    {
      "cell_type": "markdown",
      "metadata": {
        "id": "gR45bico1Vkb"
      },
      "source": [
        "# Alex's Advice on Regularization: "
      ]
    },
    {
      "cell_type": "markdown",
      "metadata": {
        "id": "KITOaNu-bFEJ"
      },
      "source": [
        "Here are some ideas of changes to the model with Alex's help: \n",
        "\n",
        "- Increase the stride to decrease computation time (thanks Zach!)\n",
        "\n",
        "- Dropout after conv2D layer (thanks Courtnie!)\n",
        "\n",
        "- Create a bottleneck shape for the channels (wide to narrow to wide) (thanks Alex!)\n",
        "  - for example, instead of [1, 8, 32, 64, 128, 512] do [1, 64, 512, 128]. \n",
        "\n",
        "- Use only a subset of the training data for hyperparameter setting. That will make this iteration process faster. (thanks Alex!)\n",
        "\n",
        "- Try increasing stride instead of max pooling. (thanks Alex)\n",
        "\n",
        "- Play with learning rate a bit , but this is lower priority. (thanks Alex). \n",
        "  - Try a slightly lower learning rate. \n",
        "\n",
        "- More data augmentation should be priority #1. \n",
        "\n",
        "- With optimizers other than adam (simpler ones) learning rate decay usually improves accuracy. With adam it isn't so necessary. \n",
        "  - There are some cases where adam doesn't work so great. Hard to predict what those cases will be. Sometimes SGD + learning rate decay is better. It is usually about equally good to adam, but adam is simpler to set up because fewer parameters. \n",
        "\n",
        "-  Our next meeting with Alex will be on Thursday- same time. \n"
      ]
    },
    {
      "cell_type": "markdown",
      "metadata": {
        "id": "YsHy0F4UiaMJ"
      },
      "source": [
        "Here are some ideas about augmentation in a dataloader with Alex: \n",
        "\n",
        "- Most direct option is to write a dataloader that applies the windowing, the augmentation, the spectrograming, all at the dataloader phase. \n",
        "\n",
        "- Another option would be to apply the transformation in the frequency domain, so that we apply the augmentations on the spectrograms, not the signal. \n",
        "  - this might be the better option, because it will be faster (don't need to fft every time). \n"
      ]
    },
    {
      "cell_type": "markdown",
      "metadata": {
        "id": "pQXQpW-lFQ7z"
      },
      "source": [
        "### Bottle Neck Shape of Network\n",
        "\n",
        "I'm going to use the same number of layers as the original network, but make the filter size get wide --> small --> big. "
      ]
    },
    {
      "cell_type": "code",
      "metadata": {
        "id": "w0xTFO3iFfLT"
      },
      "source": [
        "# Make a CNN & train it to predict genres.\n",
        "\n",
        "class music_net(nn.Module):\n",
        "  def __init__(self):\n",
        "    \"\"\"Intitalize neural net layers\"\"\"\n",
        "    super(music_net, self).__init__()\n",
        "    self.conv1 = nn.Conv2d(in_channels=1, out_channels=16, kernel_size=3, stride=1, padding=0) # changed in channels to 1 \n",
        "    self.conv2 = nn.Conv2d(in_channels=16, out_channels=64, kernel_size=3, stride=1, padding=0)\n",
        "    self.conv3 = nn.Conv2d(in_channels=64, out_channels=128, kernel_size=3, stride=1, padding=0)\n",
        "    self.conv4 = nn.Conv2d(in_channels=128, out_channels=512, kernel_size=3, stride=1, padding=0)\n",
        "    self.conv5 = nn.Conv2d(in_channels=512, out_channels=128, kernel_size=3, stride=1, padding=0)\n",
        "    self.fc1 = nn.Linear(in_features=512, out_features=10) ##################################### changed in_features\n",
        "\n",
        "    self.batchnorm1 = nn.BatchNorm2d(num_features=16)\n",
        "    self.batchnorm2 = nn.BatchNorm2d(num_features=64)\n",
        "    self.batchnorm3 = nn.BatchNorm2d(num_features=128)\n",
        "    self.batchnorm4 = nn.BatchNorm2d(num_features=512)\n",
        "    self.batchnorm5 = nn.BatchNorm2d(num_features=128)\n",
        "\n",
        "    self.dropout = nn.Dropout(p=0.3, inplace=False)\n",
        "\n",
        "\n",
        "  def forward(self, x):\n",
        "    # Conv layer 1.\n",
        "    x = self.conv1(x)\n",
        "    x = self.batchnorm1(x)\n",
        "    x = F.relu(x)\n",
        "    x = F.max_pool2d(x, kernel_size=2)\n",
        "\n",
        "    # Conv layer 2.\n",
        "    x = self.conv2(x)\n",
        "    x = self.batchnorm2(x)\n",
        "    x = F.relu(x)\n",
        "    x = F.max_pool2d(x, kernel_size=2)\n",
        "\n",
        "    # Conv layer 3.\n",
        "    x = self.conv3(x)\n",
        "    x = self.batchnorm3(x)\n",
        "    x = F.relu(x)\n",
        "    x = F.max_pool2d(x, kernel_size=2)\n",
        "\n",
        "    # Conv layer 4.\n",
        "    x = self.conv4(x)\n",
        "    x = self.batchnorm4(x)\n",
        "    x = F.relu(x)\n",
        "    x = F.max_pool2d(x, kernel_size=2)\n",
        "\n",
        "    # Conv layer 5.\n",
        "    x = self.conv5(x)\n",
        "    x = self.batchnorm5(x)\n",
        "    x = F.relu(x)\n",
        "    x = F.max_pool2d(x, kernel_size=2)\n",
        "    #print(x.shape)################################################################\n",
        "\n",
        "    # Fully connected layer 1.\n",
        "    x = torch.flatten(x, 1)\n",
        "    x = self.dropout(x)\n",
        "    x = self.fc1(x)\n",
        "    x = F.softmax(x)\n",
        "\n",
        "    return x\n",
        "\n",
        "\n",
        "def train(model, device, train_loader, validation_loader, epochs):\n",
        "  criterion =  nn.CrossEntropyLoss()\n",
        "  optimizer = torch.optim.Adam(model.parameters(), lr=0.0005)\n",
        "  train_loss, validation_loss = [], []\n",
        "  train_acc, validation_acc = [], []\n",
        "  with tqdm(range(epochs), unit='epoch') as tepochs:\n",
        "    tepochs.set_description('Training')\n",
        "    for epoch in tepochs:\n",
        "      model.train()\n",
        "      # keep track of the running loss\n",
        "      running_loss = 0.\n",
        "      correct, total = 0, 0\n",
        "\n",
        "      for data, target in train_loader:\n",
        "        # getting the training set\n",
        "        data, target = data.to(device), target.to(device)\n",
        "        \n",
        "        #squeeze out extra dimension in data\n",
        "        #data = data.squeeze(dim = 0) ########################################### this is new. \n",
        "\n",
        "        #using torch dataloader, you have to unsqueeze the data, I think...\n",
        "        data = data.reshape((100, 1, 128, 129))#######  this is hardcoded for now and should be fixed somewhere else. \n",
        "        #100 is the batch size, 1 is for a single channel, and 128 by 129 is the size of the spectrogram image in pixels. \n",
        "\n",
        "        # Get the model output (call the model with the data from this batch)\n",
        "        output = model(data)\n",
        "        # Zero the gradients out)\n",
        "        optimizer.zero_grad()\n",
        "        # Get the Loss\n",
        "        loss  = criterion(output, target)\n",
        "        # Calculate the gradients\n",
        "        loss.backward()\n",
        "        # Update the weights (using the training step of the optimizer)\n",
        "        optimizer.step()\n",
        "\n",
        "        tepochs.set_postfix(loss=loss.item())\n",
        "        running_loss += loss  # add the loss for this batch\n",
        "\n",
        "        # get accuracy\n",
        "        _, predicted = torch.max(output, 1)\n",
        "        total += target.size(0)\n",
        "        correct += (predicted == target).sum().item()\n",
        "\n",
        "      # append the loss for this epoch\n",
        "      train_loss.append(running_loss/len(train_loader))\n",
        "      train_acc.append(correct/total)\n",
        "\n",
        "      # evaluate on validation data\n",
        "      model.eval()\n",
        "      running_loss = 0.\n",
        "      correct, total = 0, 0\n",
        "\n",
        "      for data, target in validation_loader:\n",
        "        # getting the validation set\n",
        "        #using torch dataloader, you have to unsqueeze the data, I think...\n",
        "        data = data.reshape((100, 1, 128, 129))#######  this is hardcoded for now and should be fixed somewhere else. \n",
        "        #100 is the batch size, 1 is for a single channel, and 128 by 129 is the size of the spectrogram image in pixels. \n",
        "\n",
        "        data, target = data.to(device), target.to(device)\n",
        "        optimizer.zero_grad()\n",
        "        output = model(data)\n",
        "        loss = criterion(output, target)\n",
        "        tepochs.set_postfix(loss=loss.item())\n",
        "        running_loss += loss.item()\n",
        "        # get accuracy\n",
        "        _, predicted = torch.max(output, 1)\n",
        "        total += target.size(0)\n",
        "        correct += (predicted == target).sum().item()\n",
        "\n",
        "      validation_loss.append(running_loss/len(validation_loader))\n",
        "      validation_acc.append(correct/total)\n",
        "\n",
        "  return train_loss, train_acc, validation_loss, validation_acc"
      ],
      "execution_count": null,
      "outputs": []
    },
    {
      "cell_type": "code",
      "metadata": {
        "colab": {
          "base_uri": "https://localhost:8080/",
          "height": 475,
          "referenced_widgets": [
            "2f5a538b5bad4070a29f49079ea60615",
            "eeb5b2ca066b4a198ebf3e9a7da59cf4",
            "75120dc7a96a4420bd1d4f81cafbb677",
            "44c07e071e5a4e41a2364597439b00cb",
            "424b11fd66e74ec584db03c70fe15a7b",
            "7857881ed4784d86ab5447e4d123cc33",
            "b83c8f4d01a4419d8e27e5a308b39d1b",
            "932c752fd5fb42f4a714f8fc372d08cb"
          ]
        },
        "id": "OLxUNlToGPnb",
        "outputId": "4e04b4a5-caa3-4279-d6c5-2fd3892dd2ea"
      },
      "source": [
        "# Run training.\n",
        "\n",
        "net = music_net().to(device)\n",
        "train_loss, train_acc, validation_loss, validation_acc = train(net, device, train_loader, val_loader, 50)\n",
        "plot_loss_accuracy(train_loss, train_acc, validation_loss, validation_acc)"
      ],
      "execution_count": null,
      "outputs": [
        {
          "output_type": "display_data",
          "data": {
            "application/vnd.jupyter.widget-view+json": {
              "model_id": "2f5a538b5bad4070a29f49079ea60615",
              "version_minor": 0,
              "version_major": 2
            },
            "text/plain": [
              "HBox(children=(FloatProgress(value=0.0, max=50.0), HTML(value='')))"
            ]
          },
          "metadata": {
            "tags": []
          }
        },
        {
          "output_type": "stream",
          "text": [
            "/usr/local/lib/python3.7/dist-packages/torch/nn/functional.py:718: UserWarning: Named tensors and all their associated APIs are an experimental feature and subject to change. Please do not use them for anything important until they are released as stable. (Triggered internally at  /pytorch/c10/core/TensorImpl.h:1156.)\n",
            "  return torch.max_pool2d(input, kernel_size, stride, padding, dilation, ceil_mode)\n",
            "/usr/local/lib/python3.7/dist-packages/ipykernel_launcher.py:59: UserWarning: Implicit dimension choice for softmax has been deprecated. Change the call to include dim=X as an argument.\n"
          ],
          "name": "stderr"
        },
        {
          "output_type": "stream",
          "text": [
            "\n"
          ],
          "name": "stdout"
        },
        {
          "output_type": "display_data",
          "data": {
            "image/png": "[encoded data removed]",
            "text/plain": [
              "<Figure size 1116x396 with 2 Axes>"
            ]
          },
          "metadata": {
            "tags": [],
            "needs_background": "light"
          }
        }
      ]
    },
    {
      "cell_type": "markdown",
      "metadata": {
        "id": "7sBaBe_yGSaU"
      },
      "source": [
        "That did help it learn the training set faster, compared to a network with the same number of layers but the size was doubling at every layer, but it didn't change much with the validation set accuracy. Maybe I'll stick with this architecture and try applying other regularization tricks to it. "
      ]
    },
    {
      "cell_type": "markdown",
      "metadata": {
        "id": "G-aa2-ZoJ63p"
      },
      "source": [
        "### Data Augmentation with SpecAugment"
      ]
    },
    {
      "cell_type": "markdown",
      "metadata": {
        "id": "zncnEZv3J97L"
      },
      "source": [
        ""
      ]
    },
    {
      "cell_type": "code",
      "metadata": {
        "colab": {
          "base_uri": "https://localhost:8080/"
        },
        "id": "d7TwlVelKtMy",
        "outputId": "9536f8c5-f595-4135-c7ba-87cfb71e978a"
      },
      "source": [
        "pip install torchaudio"
      ],
      "execution_count": null,
      "outputs": [
        {
          "output_type": "stream",
          "text": [
            "Collecting torchaudio\n",
            "  Downloading torchaudio-0.9.0-cp37-cp37m-manylinux1_x86_64.whl (1.9 MB)\n",
            "\u001b[K     |████████████████████████████████| 1.9 MB 4.3 MB/s \n",
            "\u001b[?25hRequirement already satisfied: torch==1.9.0 in /usr/local/lib/python3.7/dist-packages (from torchaudio) (1.9.0+cu102)\n",
            "Requirement already satisfied: typing-extensions in /usr/local/lib/python3.7/dist-packages (from torch==1.9.0->torchaudio) (3.7.4.3)\n",
            "Installing collected packages: torchaudio\n",
            "Successfully installed torchaudio-0.9.0\n"
          ],
          "name": "stdout"
        }
      ]
    },
    {
      "cell_type": "code",
      "metadata": {
        "id": "NFWKKNkFKHHI"
      },
      "source": [
        "# Data loading.\n",
        "train_dir = \"/content/train_cropped/\"\n",
        "val_dir =  \"/content/val_cropped/\"\n",
        "\n",
        "train_dataset = datasets.DatasetFolder(\n",
        "    train_dir, \n",
        "    extensions = (\".pt\"), \n",
        "    loader = torch.load, \n",
        "    transform = transforms.Compose([torchaudio.transforms.TimeMasking(time_mask_param= 10, iid_masks=True), \n",
        "                                    torchaudio.transforms.FrequencyMasking(freq_mask_param=5, iid_masks=True)]) )\n",
        "\n",
        "train_loader = torch.utils.data.DataLoader(\n",
        "    train_dataset, batch_size=100, shuffle=True, num_workers=0, drop_last = True)\n",
        "\n",
        "val_dataset = datasets.DatasetFolder(\n",
        "    val_dir, \n",
        "    extensions = (\".pt\"), \n",
        "    loader = torch.load )\n",
        "\n",
        "val_loader = torch.utils.data.DataLoader(\n",
        "    val_dataset, batch_size=100, shuffle=True, num_workers=0, drop_last = True)"
      ],
      "execution_count": null,
      "outputs": []
    },
    {
      "cell_type": "code",
      "metadata": {
        "id": "Lmps3SHZKrS6"
      },
      "source": [
        "import torchaudio"
      ],
      "execution_count": null,
      "outputs": []
    },
    {
      "cell_type": "code",
      "metadata": {
        "id": "kpfJ8cypLj1A"
      },
      "source": [
        "for data, target in train_dataset:\n",
        "  print(target)\n",
        "  print(data.shape)\n",
        "  plt.figure()\n",
        "  plt.imshow(data.numpy())"
      ],
      "execution_count": null,
      "outputs": []
    },
    {
      "cell_type": "code",
      "metadata": {
        "colab": {
          "base_uri": "https://localhost:8080/",
          "height": 441,
          "referenced_widgets": [
            "e552dfa912344996a8835f468d1f27d3",
            "24c382687bca41c4bab00171a7d36831",
            "7183265a3d0f4baf95a4007076a41980",
            "bf6047816f904ba681f338e2bb6d655a",
            "8ee7e3462caa4ad5bab4253d08daa171",
            "7390849f069e4bc892baa0c7e25c6188",
            "048df7632d1642c6b2570fe1840069eb",
            "a71598188af648b8beb7d763ea05c710"
          ]
        },
        "id": "eDKs7C1zMgXI",
        "outputId": "dcb3dc1d-617b-4a42-8d2c-f92741b46057"
      },
      "source": [
        "# Run training.\n",
        "\n",
        "net = music_net().to(device)\n",
        "train_loss, train_acc, validation_loss, validation_acc = train(net, device, train_loader, val_loader, 50)\n",
        "plot_loss_accuracy(train_loss, train_acc, validation_loss, validation_acc)"
      ],
      "execution_count": null,
      "outputs": [
        {
          "output_type": "display_data",
          "data": {
            "application/vnd.jupyter.widget-view+json": {
              "model_id": "e552dfa912344996a8835f468d1f27d3",
              "version_minor": 0,
              "version_major": 2
            },
            "text/plain": [
              "HBox(children=(FloatProgress(value=0.0, max=50.0), HTML(value='')))"
            ]
          },
          "metadata": {
            "tags": []
          }
        },
        {
          "output_type": "stream",
          "text": [
            "/usr/local/lib/python3.7/dist-packages/ipykernel_launcher.py:59: UserWarning: Implicit dimension choice for softmax has been deprecated. Change the call to include dim=X as an argument.\n"
          ],
          "name": "stderr"
        },
        {
          "output_type": "stream",
          "text": [
            "\n"
          ],
          "name": "stdout"
        },
        {
          "output_type": "display_data",
          "data": {
            "image/png": "[encoded data removed]",
            "text/plain": [
              "<Figure size 1116x396 with 2 Axes>"
            ]
          },
          "metadata": {
            "tags": [],
            "needs_background": "light"
          }
        }
      ]
    },
    {
      "cell_type": "markdown",
      "metadata": {
        "id": "tsMtKxDEM3nS"
      },
      "source": [
        "It seems that that level of masking really didn't have much effect at all. Maybe we need wider masking bands? I don't know how much we can push it really. I'll try again with much larger masks and fewer epochs just to see. "
      ]
    },
    {
      "cell_type": "code",
      "metadata": {
        "id": "ttTdI5DWRPzi"
      },
      "source": [
        "# Data loading.\n",
        "train_dir = \"/content/train_cropped/\"\n",
        "val_dir =  \"/content/val_cropped/\"\n",
        "\n",
        "train_dataset = datasets.DatasetFolder(\n",
        "    train_dir, \n",
        "    extensions = (\".pt\"), \n",
        "    loader = torch.load, \n",
        "    transform = transforms.Compose([torchaudio.transforms.TimeMasking(time_mask_param= 20, iid_masks=True), \n",
        "                                    torchaudio.transforms.FrequencyMasking(freq_mask_param=20, iid_masks=True), \n",
        "                                    torchaudio.transforms.TimeMasking(time_mask_param= 20, iid_masks=True)]) )\n",
        "\n",
        "train_loader = torch.utils.data.DataLoader(\n",
        "    train_dataset, batch_size=100, shuffle=True, num_workers=0, drop_last = True)\n",
        "\n",
        "val_dataset = datasets.DatasetFolder(\n",
        "    val_dir, \n",
        "    extensions = (\".pt\"), \n",
        "    loader = torch.load )\n",
        "\n",
        "val_loader = torch.utils.data.DataLoader(\n",
        "    val_dataset, batch_size=100, shuffle=True, num_workers=0, drop_last = True)"
      ],
      "execution_count": null,
      "outputs": []
    },
    {
      "cell_type": "code",
      "metadata": {
        "colab": {
          "base_uri": "https://localhost:8080/",
          "height": 475,
          "referenced_widgets": [
            "903d46ce405e49688fe86e8091c3075d",
            "14a1d55b468842de91527b6ea7474212",
            "ad86d462f45f4f899f79b3526039732d",
            "a54a239906e54b55a7febfe3c67b3dd8",
            "c5be2588bf1e4551a65f601812ba59b9",
            "b109d0bb482846889d3f2b10ca6b9dc4",
            "ae6aa230b12e48b48dfadd974dd84e25",
            "a67e6142bb5a481eb6f7fb3e7e92e68d"
          ]
        },
        "id": "WO7knWhkRbKd",
        "outputId": "932ff924-8093-4a40-cccb-09bc6ef58a9e"
      },
      "source": [
        "# Run training.\n",
        "\n",
        "net = music_net().to(device)\n",
        "train_loss, train_acc, validation_loss, validation_acc = train(net, device, train_loader, val_loader, 50)\n",
        "plot_loss_accuracy(train_loss, train_acc, validation_loss, validation_acc)"
      ],
      "execution_count": null,
      "outputs": [
        {
          "output_type": "display_data",
          "data": {
            "application/vnd.jupyter.widget-view+json": {
              "model_id": "903d46ce405e49688fe86e8091c3075d",
              "version_minor": 0,
              "version_major": 2
            },
            "text/plain": [
              "HBox(children=(FloatProgress(value=0.0, max=50.0), HTML(value='')))"
            ]
          },
          "metadata": {
            "tags": []
          }
        },
        {
          "output_type": "stream",
          "text": [
            "/usr/local/lib/python3.7/dist-packages/torch/nn/functional.py:718: UserWarning: Named tensors and all their associated APIs are an experimental feature and subject to change. Please do not use them for anything important until they are released as stable. (Triggered internally at  /pytorch/c10/core/TensorImpl.h:1156.)\n",
            "  return torch.max_pool2d(input, kernel_size, stride, padding, dilation, ceil_mode)\n",
            "/usr/local/lib/python3.7/dist-packages/ipykernel_launcher.py:59: UserWarning: Implicit dimension choice for softmax has been deprecated. Change the call to include dim=X as an argument.\n"
          ],
          "name": "stderr"
        },
        {
          "output_type": "stream",
          "text": [
            "\n"
          ],
          "name": "stdout"
        },
        {
          "output_type": "display_data",
          "data": {
            "image/png": "[encoded data removed]",
            "text/plain": [
              "<Figure size 1116x396 with 2 Axes>"
            ]
          },
          "metadata": {
            "tags": [],
            "needs_background": "light"
          }
        }
      ]
    },
    {
      "cell_type": "markdown",
      "metadata": {
        "id": "HJcqUjQOReYb"
      },
      "source": [
        "This does seem to have helped. The validation accuracy is now hovering around the mid 70s, not the low 70s it seems. Maybe we can push the masking even further. "
      ]
    },
    {
      "cell_type": "code",
      "metadata": {
        "id": "mBBKTbT4SnwL"
      },
      "source": [
        "# Data loading.\n",
        "train_dir = \"/content/train_cropped/\"\n",
        "val_dir =  \"/content/val_cropped/\"\n",
        "\n",
        "train_dataset = datasets.DatasetFolder(\n",
        "    train_dir, \n",
        "    extensions = (\".pt\"), \n",
        "    loader = torch.load, \n",
        "    transform = transforms.Compose([torchaudio.transforms.TimeMasking(time_mask_param= 40, iid_masks=True), \n",
        "                                    torchaudio.transforms.FrequencyMasking(freq_mask_param=40, iid_masks=True), \n",
        "                                    torchaudio.transforms.TimeMasking(time_mask_param= 20, iid_masks=True), \n",
        "                                    torchaudio.transforms.FrequencyMasking(freq_mask_param = 20, iid_masks=True)]) )\n",
        "\n",
        "train_loader = torch.utils.data.DataLoader(\n",
        "    train_dataset, batch_size=100, shuffle=True, num_workers=0, drop_last = True)\n",
        "\n",
        "val_dataset = datasets.DatasetFolder(\n",
        "    val_dir, \n",
        "    extensions = (\".pt\"), \n",
        "    loader = torch.load )\n",
        "\n",
        "val_loader = torch.utils.data.DataLoader(\n",
        "    val_dataset, batch_size=100, shuffle=True, num_workers=0, drop_last = True)"
      ],
      "execution_count": null,
      "outputs": []
    },
    {
      "cell_type": "code",
      "metadata": {
        "colab": {
          "base_uri": "https://localhost:8080/",
          "height": 499,
          "referenced_widgets": [
            "6905fce7caed4c8eb6b9132456b7ce83",
            "3fc6010ddb0a4343957259a35d409bde",
            "4dbcccdd47494b0080a3ddb58f78db79",
            "add790de876f40a4a776b6bf510ec7ae",
            "70d90a18ab5b4325ad6d775448fdc9f5",
            "cbe0162577a5424b90d2a0d1dc9c4dee",
            "f588fbb7090d4c7b82eee080c1c6280c",
            "a94ecc5031594ce3b165c1221373a361"
          ]
        },
        "id": "tzaO-JJNTTVO",
        "outputId": "3c76bf64-266f-4643-f0c8-09ba5dbccfa3"
      },
      "source": [
        "# Run training.\n",
        "\n",
        "net = music_net().to(device)\n",
        "train_loss, train_acc, validation_loss, validation_acc = train(net, device, train_loader, val_loader, 50)\n",
        "plot_loss_accuracy(train_loss, train_acc, validation_loss, validation_acc)"
      ],
      "execution_count": null,
      "outputs": [
        {
          "output_type": "display_data",
          "data": {
            "application/vnd.jupyter.widget-view+json": {
              "model_id": "6905fce7caed4c8eb6b9132456b7ce83",
              "version_minor": 0,
              "version_major": 2
            },
            "text/plain": [
              "HBox(children=(FloatProgress(value=0.0, max=50.0), HTML(value='')))"
            ]
          },
          "metadata": {
            "tags": []
          }
        },
        {
          "output_type": "stream",
          "text": [
            "/usr/local/lib/python3.7/dist-packages/torch/nn/functional.py:718: UserWarning: Named tensors and all their associated APIs are an experimental feature and subject to change. Please do not use them for anything important until they are released as stable. (Triggered internally at  /pytorch/c10/core/TensorImpl.h:1156.)\n",
            "  return torch.max_pool2d(input, kernel_size, stride, padding, dilation, ceil_mode)\n",
            "/usr/local/lib/python3.7/dist-packages/ipykernel_launcher.py:59: UserWarning: Implicit dimension choice for softmax has been deprecated. Change the call to include dim=X as an argument.\n"
          ],
          "name": "stderr"
        },
        {
          "output_type": "stream",
          "text": [
            "\n"
          ],
          "name": "stdout"
        },
        {
          "output_type": "display_data",
          "data": {
            "image/png": "[encoded data removed]",
            "text/plain": [
              "<Figure size 1116x396 with 2 Axes>"
            ]
          },
          "metadata": {
            "tags": [],
            "needs_background": "light"
          }
        }
      ]
    },
    {
      "cell_type": "markdown",
      "metadata": {
        "id": "n1eown8uTVZG"
      },
      "source": [
        "Looks like that is going even better! I'm not to increase the augmentation ***even more*** and also increase the learning rate slightly. "
      ]
    },
    {
      "cell_type": "code",
      "metadata": {
        "id": "-2_iyTOpbHKS"
      },
      "source": [
        "# Data loading.\n",
        "train_dir = \"/content/train_cropped/\"\n",
        "val_dir =  \"/content/val_cropped/\"\n",
        "\n",
        "train_dataset = datasets.DatasetFolder(\n",
        "    train_dir, \n",
        "    extensions = (\".pt\"), \n",
        "    loader = torch.load, \n",
        "    transform = transforms.Compose([torchaudio.transforms.TimeMasking(time_mask_param= 40, iid_masks=True), \n",
        "                                    torchaudio.transforms.FrequencyMasking(freq_mask_param=40, iid_masks=True), \n",
        "                                    torchaudio.transforms.TimeMasking(time_mask_param= 30, iid_masks=True), \n",
        "                                    torchaudio.transforms.FrequencyMasking(freq_mask_param = 30, iid_masks=True), \n",
        "                                    torchaudio.transforms.TimeMasking(time_mask_param= 20, iid_masks=True), \n",
        "                                    torchaudio.transforms.FrequencyMasking(freq_mask_param = 20, iid_masks=True)]) )\n",
        "\n",
        "train_loader = torch.utils.data.DataLoader(\n",
        "    train_dataset, batch_size=100, shuffle=True, num_workers=0, drop_last = True)\n",
        "\n",
        "val_dataset = datasets.DatasetFolder(\n",
        "    val_dir, \n",
        "    extensions = (\".pt\"), \n",
        "    loader = torch.load )\n",
        "\n",
        "val_loader = torch.utils.data.DataLoader(\n",
        "    val_dataset, batch_size=100, shuffle=True, num_workers=0, drop_last = True)"
      ],
      "execution_count": null,
      "outputs": []
    },
    {
      "cell_type": "code",
      "metadata": {
        "id": "05hoh57SbRGi"
      },
      "source": [
        "# Make a CNN & train it to predict genres.\n",
        "\n",
        "class music_net(nn.Module):\n",
        "  def __init__(self):\n",
        "    \"\"\"Intitalize neural net layers\"\"\"\n",
        "    super(music_net, self).__init__()\n",
        "    self.conv1 = nn.Conv2d(in_channels=1, out_channels=16, kernel_size=3, stride=1, padding=0) # changed in channels to 1 \n",
        "    self.conv2 = nn.Conv2d(in_channels=16, out_channels=64, kernel_size=3, stride=1, padding=0)\n",
        "    self.conv3 = nn.Conv2d(in_channels=64, out_channels=128, kernel_size=3, stride=1, padding=0)\n",
        "    self.conv4 = nn.Conv2d(in_channels=128, out_channels=512, kernel_size=3, stride=1, padding=0)\n",
        "    self.conv5 = nn.Conv2d(in_channels=512, out_channels=128, kernel_size=3, stride=1, padding=0)\n",
        "    self.fc1 = nn.Linear(in_features=512, out_features=10) ##################################### changed in_features\n",
        "\n",
        "    self.batchnorm1 = nn.BatchNorm2d(num_features=16)\n",
        "    self.batchnorm2 = nn.BatchNorm2d(num_features=64)\n",
        "    self.batchnorm3 = nn.BatchNorm2d(num_features=128)\n",
        "    self.batchnorm4 = nn.BatchNorm2d(num_features=512)\n",
        "    self.batchnorm5 = nn.BatchNorm2d(num_features=128)\n",
        "\n",
        "    self.dropout = nn.Dropout(p=0.3, inplace=False)\n",
        "\n",
        "\n",
        "  def forward(self, x):\n",
        "    # Conv layer 1.\n",
        "    x = self.conv1(x)\n",
        "    x = self.batchnorm1(x)\n",
        "    x = F.relu(x)\n",
        "    x = F.max_pool2d(x, kernel_size=2)\n",
        "\n",
        "    # Conv layer 2.\n",
        "    x = self.conv2(x)\n",
        "    x = self.batchnorm2(x)\n",
        "    x = F.relu(x)\n",
        "    x = F.max_pool2d(x, kernel_size=2)\n",
        "\n",
        "    # Conv layer 3.\n",
        "    x = self.conv3(x)\n",
        "    x = self.batchnorm3(x)\n",
        "    x = F.relu(x)\n",
        "    x = F.max_pool2d(x, kernel_size=2)\n",
        "\n",
        "    # Conv layer 4.\n",
        "    x = self.conv4(x)\n",
        "    x = self.batchnorm4(x)\n",
        "    x = F.relu(x)\n",
        "    x = F.max_pool2d(x, kernel_size=2)\n",
        "\n",
        "    # Conv layer 5.\n",
        "    x = self.conv5(x)\n",
        "    x = self.batchnorm5(x)\n",
        "    x = F.relu(x)\n",
        "    x = F.max_pool2d(x, kernel_size=2)\n",
        "    #print(x.shape)################################################################\n",
        "\n",
        "    # Fully connected layer 1.\n",
        "    x = torch.flatten(x, 1)\n",
        "    x = self.dropout(x)\n",
        "    x = self.fc1(x)\n",
        "    x = F.softmax(x)\n",
        "\n",
        "    return x\n",
        "\n",
        "\n",
        "def train(model, device, train_loader, validation_loader, epochs):\n",
        "  criterion =  nn.CrossEntropyLoss()\n",
        "  optimizer = torch.optim.Adam(model.parameters(), lr=0.001)\n",
        "  train_loss, validation_loss = [], []\n",
        "  train_acc, validation_acc = [], []\n",
        "  with tqdm(range(epochs), unit='epoch') as tepochs:\n",
        "    tepochs.set_description('Training')\n",
        "    for epoch in tepochs:\n",
        "      model.train()\n",
        "      # keep track of the running loss\n",
        "      running_loss = 0.\n",
        "      correct, total = 0, 0\n",
        "\n",
        "      for data, target in train_loader:\n",
        "        # getting the training set\n",
        "        data, target = data.to(device), target.to(device)\n",
        "        \n",
        "        #squeeze out extra dimension in data\n",
        "        #data = data.squeeze(dim = 0) ########################################### this is new. \n",
        "\n",
        "        #using torch dataloader, you have to unsqueeze the data, I think...\n",
        "        data = data.reshape((100, 1, 128, 129))#######  this is hardcoded for now and should be fixed somewhere else. \n",
        "        #100 is the batch size, 1 is for a single channel, and 128 by 129 is the size of the spectrogram image in pixels. \n",
        "\n",
        "        # Get the model output (call the model with the data from this batch)\n",
        "        output = model(data)\n",
        "        # Zero the gradients out)\n",
        "        optimizer.zero_grad()\n",
        "        # Get the Loss\n",
        "        loss  = criterion(output, target)\n",
        "        # Calculate the gradients\n",
        "        loss.backward()\n",
        "        # Update the weights (using the training step of the optimizer)\n",
        "        optimizer.step()\n",
        "\n",
        "        tepochs.set_postfix(loss=loss.item())\n",
        "        running_loss += loss  # add the loss for this batch\n",
        "\n",
        "        # get accuracy\n",
        "        _, predicted = torch.max(output, 1)\n",
        "        total += target.size(0)\n",
        "        correct += (predicted == target).sum().item()\n",
        "\n",
        "      # append the loss for this epoch\n",
        "      train_loss.append(running_loss/len(train_loader))\n",
        "      train_acc.append(correct/total)\n",
        "\n",
        "      # evaluate on validation data\n",
        "      model.eval()\n",
        "      running_loss = 0.\n",
        "      correct, total = 0, 0\n",
        "\n",
        "      for data, target in validation_loader:\n",
        "        # getting the validation set\n",
        "        #using torch dataloader, you have to unsqueeze the data, I think...\n",
        "        data = data.reshape((100, 1, 128, 129))#######  this is hardcoded for now and should be fixed somewhere else. \n",
        "        #100 is the batch size, 1 is for a single channel, and 128 by 129 is the size of the spectrogram image in pixels. \n",
        "\n",
        "        data, target = data.to(device), target.to(device)\n",
        "        optimizer.zero_grad()\n",
        "        output = model(data)\n",
        "        loss = criterion(output, target)\n",
        "        tepochs.set_postfix(loss=loss.item())\n",
        "        running_loss += loss.item()\n",
        "        # get accuracy\n",
        "        _, predicted = torch.max(output, 1)\n",
        "        total += target.size(0)\n",
        "        correct += (predicted == target).sum().item()\n",
        "\n",
        "      validation_loss.append(running_loss/len(validation_loader))\n",
        "      validation_acc.append(correct/total)\n",
        "\n",
        "  return train_loss, train_acc, validation_loss, validation_acc"
      ],
      "execution_count": null,
      "outputs": []
    },
    {
      "cell_type": "code",
      "metadata": {
        "colab": {
          "base_uri": "https://localhost:8080/",
          "height": 87,
          "referenced_widgets": [
            "4c9d01d192c34f67922e4566d0474d74",
            "693a904bc74c4661a26bb4352e5a3335",
            "93745946cc8d40d09992ca9e8a205243",
            "e686e8dd897f4509961cb99e2cbc9f0c",
            "1724869d5fa04d208b4b574311e95c8c",
            "d420664ff4604f3fb976b86a4e6e59c4",
            "73e6dcbae47d4cda9bcf8503920f7305",
            "a0228209059c49f8b19bdf17ed2c0f87"
          ]
        },
        "id": "bMran6yJbdoD",
        "outputId": "6a69c43e-1072-41b3-fc03-fc9d507bb642"
      },
      "source": [
        "# Run training.\n",
        "\n",
        "net = music_net().to(device)\n",
        "train_loss, train_acc, validation_loss, validation_acc = train(net, device, train_loader, val_loader, 50)\n",
        "plot_loss_accuracy(train_loss, train_acc, validation_loss, validation_acc)"
      ],
      "execution_count": null,
      "outputs": [
        {
          "output_type": "display_data",
          "data": {
            "application/vnd.jupyter.widget-view+json": {
              "model_id": "4c9d01d192c34f67922e4566d0474d74",
              "version_minor": 0,
              "version_major": 2
            },
            "text/plain": [
              "HBox(children=(FloatProgress(value=0.0, max=50.0), HTML(value='')))"
            ]
          },
          "metadata": {
            "tags": []
          }
        },
        {
          "output_type": "stream",
          "text": [
            "/usr/local/lib/python3.7/dist-packages/ipykernel_launcher.py:59: UserWarning: Implicit dimension choice for softmax has been deprecated. Change the call to include dim=X as an argument.\n"
          ],
          "name": "stderr"
        }
      ]
    },
    {
      "cell_type": "code",
      "metadata": {
        "id": "EkRF0bVgbhmA"
      },
      "source": [
        ""
      ],
      "execution_count": null,
      "outputs": []
    }
  ]
}