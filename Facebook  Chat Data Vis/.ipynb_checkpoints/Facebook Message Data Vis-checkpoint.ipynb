{
 "cells": [
  {
   "cell_type": "code",
   "execution_count": 148,
   "id": "bd858521",
   "metadata": {},
   "outputs": [],
   "source": [
    "import json\n",
    "import os\n",
    "import collections\n",
    "from datetime import datetime as dt\n",
    "import pandas as pd\n",
    "pd.options.mode.chained_assignment = None  # default='warn'\n",
    "import matplotlib.pyplot as plt"
   ]
  },
  {
   "cell_type": "code",
   "execution_count": 263,
   "id": "c5b523e4",
   "metadata": {},
   "outputs": [],
   "source": [
    "# ------------------- Message and Conversation classes -------------------------\n",
    "class Message():\n",
    "    def __init__(self, sender, contentType, content, addContent, date):\n",
    "        self.sender = sender\n",
    "        self.contentType = contentType\n",
    "        self.content = content\n",
    "        self.addContent = addContent\n",
    "        self.date = date\n",
    "        \n",
    "class individuals():\n",
    "    def __init__(self, names, p1, p2):\n",
    "        self.names = names\n",
    "        self.p1 = p1\n",
    "        self.p2 = p2\n",
    "\n",
    "# JSON Files        \n",
    "def LoadMessages(directory):\n",
    "    message_files = [match for match in directory if \"message\" in match]\n",
    "    all_messages = []\n",
    "    for i in message_files:\n",
    "        f = open(i)\n",
    "        full_data = json.load(f)\n",
    "        messages = full_data['messages']\n",
    "        all_messages = all_messages + messages\n",
    "    df = pd.DataFrame(all_messages)\n",
    "    return df\n",
    "def CleanData(df):\n",
    "    df['datetime'] = pd.to_datetime(df['timestamp_ms'],unit = 'ms')\n",
    "    df['day']  = df['datetime'].dt.dayofweek\n",
    "    df['date'] = df['datetime'].dt.date\n",
    "    df['time'] = df['datetime'].dt.hour\n",
    "    df_clean = df.drop(columns=['is_unsent','call_duration','share','photos','videos','files','audio_files','gifs','missed','sticker','reactions'])\n",
    "    return df_clean\n",
    "\n",
    "def SeparateParticipants(df):\n",
    "    names = df['sender_name'].unique()\n",
    "    \n",
    "    p1 = df.loc[df['sender_name'] == names[0]]\n",
    "    p2 = df.loc[df['sender_name'] == names[1]]\n",
    "    \n",
    "    df_p1 = p1.groupby(p1['date']).size().reset_index(name='count')\n",
    "    df_p2 = p2.groupby(p2['date']).size().reset_index(name='count')\n",
    "    \n",
    "    people = individuals(names,p1,p2)\n",
    "    return people\n",
    "def AverageWordsPerMessage(df):\n",
    "    df['words'] = df.content.str.split()\n",
    "    df['WPM'] = df.words.str.len()\n",
    "    return df.WPM.mean()\n",
    "        \n",
    "def AverageConsecutiveMessages(df):\n",
    "    output = []\n",
    "    df['consecutive'] = (df.sender_name != df.sender_name.shift()).cumsum()\n",
    "    separate = SeparateParticipants(df)\n",
    "    p1count = separate.p1.groupby(['consecutive']).count()\n",
    "    p2count = separate.p2.groupby(['consecutive']).count()\n",
    "    output.append(p1count.sender_name.mean())\n",
    "    output.append(p2count.sender_name.mean())\n",
    "    return output\n",
    "    \n",
    "        \n",
    "        \n",
    "def AverageConversationLength(df, threshold):    \n",
    "    df = df.sort_values(by=['timestamp_ms'])\n",
    "    df['Last Message'] = df['timestamp_ms'].diff()\n",
    "    convos = df[df['Last Message'] < threshold].groupby((df['Last Message'] >= threshold).cumsum())\n",
    "    convo_length = convos['sender_name'].count()\n",
    "    avg_convo = convo_length.mean()\n",
    "    return avg_convo\n",
    "\n",
    "def DayNight(df):\n",
    "    day_map = {}\n",
    "    dn = df['datetime'].between_time('07:00','19:00')\n",
    "    print(dn.head(1))"
   ]
  },
  {
   "cell_type": "code",
   "execution_count": 264,
   "id": "e73653e9",
   "metadata": {
    "scrolled": true
   },
   "outputs": [
    {
     "name": "stdout",
     "output_type": "stream",
     "text": [
      "[2.5543975672404122, 2.677452688140297]\n",
      "13.291166666666667\n",
      "14.30071477195371\n",
      "6.670723397133191\n",
      "6.067215658193102\n"
     ]
    }
   ],
   "source": [
    "# Enter json directory\n",
    "# os.chdir('vanessanguyen')\n",
    "# directory = os.listdir()\n",
    "#directory\n",
    "messages = LoadMessages(directory)\n",
    "clean_data = CleanData(messages)\n",
    "\n",
    "a = AverageConsecutiveMessages(clean_data)\n",
    "print(a)\n",
    "\n",
    "people = SeparateParticipants(clean_data)\n",
    "\n",
    "# Length of Conversation\n",
    "conv_window = 1.8e6\n",
    "z_conv_len = AverageConversationLength(people.p1, conv_window)\n",
    "v_conv_len = AverageConversationLength(people.p2, conv_window)\n",
    "print(z_conv_len)\n",
    "print(v_conv_len)\n",
    "\n",
    "zach_wpm = AverageWordsPerMessage(people.p1)\n",
    "van_wpm = AverageWordsPerMessage(people.p2)\n",
    "print(zach_wpm)\n",
    "print(van_wpm)\n",
    "\n"
   ]
  },
  {
   "cell_type": "code",
   "execution_count": 266,
   "id": "69e972d8",
   "metadata": {},
   "outputs": [
    {
     "ename": "TypeError",
     "evalue": "Index must be DatetimeIndex",
     "output_type": "error",
     "traceback": [
      "\u001b[1;31m---------------------------------------------------------------------------\u001b[0m",
      "\u001b[1;31mTypeError\u001b[0m                                 Traceback (most recent call last)",
      "\u001b[1;32m<ipython-input-266-afa12fbe7f62>\u001b[0m in \u001b[0;36m<module>\u001b[1;34m\u001b[0m\n\u001b[1;32m----> 1\u001b[1;33m \u001b[0mclean_data\u001b[0m\u001b[1;33m[\u001b[0m\u001b[1;34m'datetime'\u001b[0m\u001b[1;33m]\u001b[0m\u001b[1;33m.\u001b[0m\u001b[0mbetween_time\u001b[0m\u001b[1;33m(\u001b[0m\u001b[1;34m'07:00'\u001b[0m\u001b[1;33m,\u001b[0m\u001b[1;34m'19:00'\u001b[0m\u001b[1;33m)\u001b[0m\u001b[1;33m\u001b[0m\u001b[1;33m\u001b[0m\u001b[0m\n\u001b[0m",
      "\u001b[1;32m~\\anaconda3\\lib\\site-packages\\pandas\\core\\generic.py\u001b[0m in \u001b[0;36mbetween_time\u001b[1;34m(self, start_time, end_time, include_start, include_end, axis)\u001b[0m\n\u001b[0;32m   7974\u001b[0m         \u001b[0mindex\u001b[0m \u001b[1;33m=\u001b[0m \u001b[0mself\u001b[0m\u001b[1;33m.\u001b[0m\u001b[0m_get_axis\u001b[0m\u001b[1;33m(\u001b[0m\u001b[0maxis\u001b[0m\u001b[1;33m)\u001b[0m\u001b[1;33m\u001b[0m\u001b[1;33m\u001b[0m\u001b[0m\n\u001b[0;32m   7975\u001b[0m         \u001b[1;32mif\u001b[0m \u001b[1;32mnot\u001b[0m \u001b[0misinstance\u001b[0m\u001b[1;33m(\u001b[0m\u001b[0mindex\u001b[0m\u001b[1;33m,\u001b[0m \u001b[0mDatetimeIndex\u001b[0m\u001b[1;33m)\u001b[0m\u001b[1;33m:\u001b[0m\u001b[1;33m\u001b[0m\u001b[1;33m\u001b[0m\u001b[0m\n\u001b[1;32m-> 7976\u001b[1;33m             \u001b[1;32mraise\u001b[0m \u001b[0mTypeError\u001b[0m\u001b[1;33m(\u001b[0m\u001b[1;34m\"Index must be DatetimeIndex\"\u001b[0m\u001b[1;33m)\u001b[0m\u001b[1;33m\u001b[0m\u001b[1;33m\u001b[0m\u001b[0m\n\u001b[0m\u001b[0;32m   7977\u001b[0m \u001b[1;33m\u001b[0m\u001b[0m\n\u001b[0;32m   7978\u001b[0m         indexer = index.indexer_between_time(\n",
      "\u001b[1;31mTypeError\u001b[0m: Index must be DatetimeIndex"
     ]
    }
   ],
   "source": [
    "clean_data['datetime'].between_time('07:00','19:00')"
   ]
  },
  {
   "cell_type": "code",
   "execution_count": null,
   "id": "db959f90",
   "metadata": {},
   "outputs": [],
   "source": []
  },
  {
   "cell_type": "code",
   "execution_count": 26,
   "id": "417cc547",
   "metadata": {},
   "outputs": [
    {
     "data": {
      "image/png": "[encoded data removed]",
      "text/plain": [
       "<Figure size 432x288 with 2 Axes>"
      ]
     },
     "metadata": {
      "needs_background": "light"
     },
     "output_type": "display_data"
    }
   ],
   "source": [
    "fig, axs = plt.subplots(2,1)\n",
    "\n",
    "#v = v_group['count','date'].plot(label = 'Vanessa', color = 'blue',alpha = 0.8)\n",
    "#plt.gca().invert_yaxis()\n",
    "#z = z_group['count'].plot(label = 'Zach', color = 'orange',alpha = 0.7)\n",
    "axs[0].plot(v_group['date'],v_group['count'])\n",
    "axs[0].axis('off')\n",
    "\n",
    "axs[1].plot(z_group['date'],z_group['count'])\n",
    "axs[1].axis('off')\n",
    "axs[1] = plt.gca().invert_yaxis()\n",
    "\n",
    "plt.tight_layout()"
   ]
  }
 ],
 "metadata": {
  "kernelspec": {
   "display_name": "Python 3",
   "language": "python",
   "name": "python3"
  },
  "language_info": {
   "codemirror_mode": {
    "name": "ipython",
    "version": 3
   },
   "file_extension": ".py",
   "mimetype": "text/x-python",
   "name": "python",
   "nbconvert_exporter": "python",
   "pygments_lexer": "ipython3",
   "version": "3.8.8"
  }
 },
 "nbformat": 4,
 "nbformat_minor": 5
}
