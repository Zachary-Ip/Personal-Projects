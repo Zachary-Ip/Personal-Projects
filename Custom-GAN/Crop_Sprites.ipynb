{
 "cells": [
  {
   "cell_type": "code",
   "execution_count": 10,
   "id": "ab93b8dc",
   "metadata": {},
   "outputs": [],
   "source": [
    "import os\n",
    "import glob\n",
    "from PIL import Image\n",
    "src_path = 'C:/Users/ipzac/Documents/Project Data/Pokemon Sprites/Clean Sprites/Sprites'\n",
    "save_path = 'C:/Users/ipzac/Documents/Project Data/Pokemon Sprites/Crop Sprites/Sprites'\n",
    "os.chdir(src_path)\n",
    "\n"
   ]
  },
  {
   "cell_type": "code",
   "execution_count": 24,
   "id": "f6c4ac17",
   "metadata": {},
   "outputs": [],
   "source": [
    "for idx, img in enumerate(glob.glob(\"*.png\")):\n",
    "    im = Image.open(img)\n",
    "    im_crop = im.crop((16,16,80,80))\n",
    "    im_crop.save(os.path.join(save_path, str(idx) + '.png'))"
   ]
  }
 ],
 "metadata": {
  "kernelspec": {
   "display_name": "Python 3",
   "language": "python",
   "name": "python3"
  },
  "language_info": {
   "codemirror_mode": {
    "name": "ipython",
    "version": 3
   },
   "file_extension": ".py",
   "mimetype": "text/x-python",
   "name": "python",
   "nbconvert_exporter": "python",
   "pygments_lexer": "ipython3",
   "version": "3.8.8"
  }
 },
 "nbformat": 4,
 "nbformat_minor": 5
}
