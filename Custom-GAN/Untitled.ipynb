{
 "cells": [
  {
   "cell_type": "code",
   "execution_count": 1,
   "id": "f9a3c048",
   "metadata": {},
   "outputs": [],
   "source": [
    "# Imports\n",
    "import os\n",
    "import time\n",
    "\n",
    "import torch\n",
    "from torch import nn\n",
    "from torch import optim\n",
    "import torchvision as tv\n",
    "from torchvision.datasets import ImageFolder\n",
    "from torch.utils.data import DataLoader\n",
    "from PIL import Image\n",
    "import numpy as np\n"
   ]
  },
  {
   "cell_type": "code",
   "execution_count": null,
   "id": "8d87a857",
   "metadata": {},
   "outputs": [],
   "source": [
    "# new imports"
   ]
  },
  {
   "cell_type": "code",
   "execution_count": null,
   "id": "27e12d3d",
   "metadata": {},
   "outputs": [],
   "source": [
    "# Functions\n"
   ]
  },
  {
   "cell_type": "code",
   "execution_count": null,
   "id": "1debf1b2",
   "metadata": {},
   "outputs": [],
   "source": [
    "# Models\n",
    "\n",
    "class Generator(nn.Module):\n",
    "    \"\"\"A generator for mapping a latent space to a sample space.\n",
    "    Input shape: (?, latent_dim)\n",
    "    Output shape: (?, 3, 96, 96)\n",
    "    \"\"\"\n",
    "\n",
    "    def __init__(self):\n",
    "        super(Generator, self).__init__()\n",
    "        self.layer1 = nn.ModuleList()\n",
    "        \n",
    "        self.layer1.append(\n",
    "            nn.Squential(\n",
    "            nn.Linear(16,8),\n",
    "            nn.BatchNorm1d(8),\n",
    "            nn.LeakyReLU(),\n",
    "                \n",
    "            nn.Linear(24,8),\n",
    "            nn.BatchNorm1d(8),\n",
    "            nn.LeakyReLU(),\n",
    "                \n",
    "            nn.Linear(32,8),\n",
    "            nn.BatchNorm1d(8),\n",
    "            nn.LeakyReLU(),\n",
    "                \n",
    "            nn.Linear(40,8),\n",
    "            nn.BatchNorm1d(8),\n",
    "            nn.LeakyReLU(),\n",
    "                \n",
    "            nn.Linear(48,8),\n",
    "            nn.BatchNorm1d(8),\n",
    "            nn.LeakyReLU(),\n",
    "                \n",
    "            nn.Linear(56,8),\n",
    "            nn.BatchNorm1d(8),\n",
    "            nn.LeakyReLU(),\n",
    "                \n",
    "            nn.Linear(64,8),\n",
    "            nn.BatchNorm1d(8),\n",
    "            nn.LeakyReLU(),\n",
    "            )\n",
    "        )\n",
    "    \n",
    "    \n",
    "    \n",
    "    \n",
    "    \n",
    "class Encoder(nn.Module):\n",
    "    \"\"\"An Encoder for encoding images as latent vectors.\n",
    "    Input shape: (?, 3, 96, 96)\n",
    "    Output shape: (?, latent_dim)\n",
    "    \"\"\"\n",
    "\n",
    "class DiscriminatorImage(nn.Module):\n",
    "    \"\"\"A discriminator for discerning real from generated images.\n",
    "    Input shape: (?, 3, 96, 96)\n",
    "    Output shape: (?, 1)\n",
    "    \"\"\"\n",
    "\n",
    "class DiscriminatorLatent(nn.Module):\n",
    "    \"\"\"A discriminator for discerning real from generated vectors.\n",
    "    Input shape: (?, latent_dim)\n",
    "    Output shape: (?, 1)\n",
    "    \"\"\"\n",
    "    \n",
    "class  Self_attn(nn.Module):\n",
    "    \n",
    "class SAAEGAN(nn.Module):\n",
    "    def __init(self):\n",
    "        \"\"\"Initialize net layers\"\"\"\n",
    "        super(SAAEGAN, self).__init__())\n",
    "        "
   ]
  },
  {
   "cell_type": "code",
   "execution_count": 4,
   "id": "a5a8ea44",
   "metadata": {},
   "outputs": [
    {
     "name": "stdout",
     "output_type": "stream",
     "text": [
      "72\n",
      "16\n",
      "8\n",
      "24\n",
      "8\n",
      "32\n",
      "8\n",
      "40\n",
      "8\n",
      "48\n",
      "8\n",
      "56\n",
      "8\n",
      "64\n",
      "8\n"
     ]
    }
   ],
   "source": [
    "projection_widths = [8, 8, 8, 8, 8, 8, 8]\n",
    "latent_dim = 16\n",
    "projection_dim = sum(projection_widths) + latent_dim\n",
    "print(projection_dim)\n",
    "\n",
    "for index, i in enumerate(projection_widths):\n",
    "    print(latent_dim + sum(projection_widths[:index]))\n",
    "    print(i)"
   ]
  },
  {
   "cell_type": "code",
   "execution_count": null,
   "id": "190765ef",
   "metadata": {},
   "outputs": [],
   "source": []
  }
 ],
 "metadata": {
  "kernelspec": {
   "display_name": "Python 3",
   "language": "python",
   "name": "python3"
  },
  "language_info": {
   "codemirror_mode": {
    "name": "ipython",
    "version": 3
   },
   "file_extension": ".py",
   "mimetype": "text/x-python",
   "name": "python",
   "nbconvert_exporter": "python",
   "pygments_lexer": "ipython3",
   "version": "3.8.8"
  }
 },
 "nbformat": 4,
 "nbformat_minor": 5
}
