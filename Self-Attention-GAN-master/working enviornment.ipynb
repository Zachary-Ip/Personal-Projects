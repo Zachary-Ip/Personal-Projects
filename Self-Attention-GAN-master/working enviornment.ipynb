{
 "cells": [
  {
   "cell_type": "code",
   "execution_count": 1,
   "id": "b26f9bef",
   "metadata": {},
   "outputs": [],
   "source": [
    "from data_loader import Data_Loader\n",
    "from parameter import get_parameters\n",
    "from trainer import Trainer"
   ]
  },
  {
   "cell_type": "code",
   "execution_count": 4,
   "id": "12bab3a5",
   "metadata": {},
   "outputs": [
    {
     "name": "stderr",
     "output_type": "stream",
     "text": [
      "usage: ipykernel_launcher.py [-h] [--model {sagan,qgan}] [--adv_loss {wgan-gp,hinge}] [--imsize IMSIZE]\n",
      "                             [--g_num G_NUM] [--z_dim Z_DIM] [--g_conv_dim G_CONV_DIM] [--d_conv_dim D_CONV_DIM]\n",
      "                             [--lambda_gp LAMBDA_GP] [--version VERSION] [--total_step TOTAL_STEP] [--d_iters D_ITERS]\n",
      "                             [--batch_size BATCH_SIZE] [--num_workers NUM_WORKERS] [--g_lr G_LR] [--d_lr D_LR]\n",
      "                             [--lr_decay LR_DECAY] [--beta1 BETA1] [--beta2 BETA2]\n",
      "                             [--pretrained_model PRETRAINED_MODEL] [--train TRAIN] [--parallel PARALLEL]\n",
      "                             [--dataset {lsun,celeb,pkmn}] [--use_tensorboard USE_TENSORBOARD]\n",
      "                             [--image_path IMAGE_PATH] [--log_path LOG_PATH] [--model_save_path MODEL_SAVE_PATH]\n",
      "                             [--sample_path SAMPLE_PATH] [--attn_path ATTN_PATH] [--log_step LOG_STEP]\n",
      "                             [--sample_step SAMPLE_STEP] [--model_save_step MODEL_SAVE_STEP]\n",
      "ipykernel_launcher.py: error: unrecognized arguments: -f C:\\Users\\ipzac\\AppData\\Roaming\\jupyter\\runtime\\kernel-6fedf991-3940-4a5d-8808-4f61d1652e34.json\n"
     ]
    },
    {
     "ename": "SystemExit",
     "evalue": "2",
     "output_type": "error",
     "traceback": [
      "An exception has occurred, use %tb to see the full traceback.\n",
      "\u001b[1;31mSystemExit\u001b[0m\u001b[1;31m:\u001b[0m 2\n"
     ]
    }
   ],
   "source": [
    "config = get_parameters()"
   ]
  },
  {
   "cell_type": "code",
   "execution_count": null,
   "id": "7d7d07e6",
   "metadata": {},
   "outputs": [],
   "source": []
  }
 ],
 "metadata": {
  "kernelspec": {
   "display_name": "Python 3",
   "language": "python",
   "name": "python3"
  },
  "language_info": {
   "codemirror_mode": {
    "name": "ipython",
    "version": 3
   },
   "file_extension": ".py",
   "mimetype": "text/x-python",
   "name": "python",
   "nbconvert_exporter": "python",
   "pygments_lexer": "ipython3",
   "version": "3.8.8"
  }
 },
 "nbformat": 4,
 "nbformat_minor": 5
}
